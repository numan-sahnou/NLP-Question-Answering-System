{
  "cells": [
    {
      "cell_type": "markdown",
      "source": "# Numan SAHNOU\n## Question Answering on the SQuAD Dataset\n\nStanford Question Answering Dataset (SQuAD) is a new reading comprehension dataset, consisting of questions posed by crowdworkers on a set of Wikipedia articles, where the answer to every question is a segment of text, or span, from the corresponding reading passage. With 100,000+ question-answer pairs on 500+ articles, SQuAD is significantly larger than previous reading comprehension datasets.",
      "metadata": {
        "id": "KpHdKsA3FDSl",
        "cell_id": "00000-b379ebaf-4b56-467e-9e7e-4340d5163877",
        "deepnote_cell_type": "markdown"
      }
    },
    {
      "cell_type": "code",
      "metadata": {
        "deepnote_to_be_reexecuted": false,
        "execution_millis": 4299,
        "execution_start": 1615563583342,
        "id": "p6VP1TgsPtxk",
        "source_hash": "b9a1886b",
        "tags": [],
        "cell_id": "00001-c8c7e73e-8498-4ca5-82b8-9404cedf6e9a",
        "deepnote_cell_type": "code"
      },
      "source": "import numpy as np\nimport pandas as pd \nimport json",
      "execution_count": null,
      "outputs": []
    },
    {
      "cell_type": "markdown",
      "source": "## Transform the JSON format into pandas dataframe",
      "metadata": {
        "id": "vLduLbwGCEDm",
        "cell_id": "00002-122465f0-2dc3-46a7-88e1-f6b82ad56b6d",
        "deepnote_cell_type": "markdown"
      }
    },
    {
      "cell_type": "code",
      "metadata": {
        "deepnote_to_be_reexecuted": false,
        "execution_millis": 3,
        "execution_start": 1615563587649,
        "id": "ggVSs1AvPtxq",
        "source_hash": "de0ffb7f",
        "tags": [],
        "cell_id": "00003-500688bf-2357-465a-ae84-895e81bcc168",
        "deepnote_cell_type": "code"
      },
      "source": "def json_to_dataframe(file):\n\n    f = open (file , \"r\") \n    data = json.loads(f.read())#Loading the json file.\n    #Creating empty lists to store values.\n    con = []\n    Que = []\n    Txt = []\n    for i in range(len(data['data'])):       #Root tag of the json file contains 'title' tag & 'paragraphs' list.\n        \n        title = data['data'][i]['title']\n        for p in range(len(data['data'][i]['paragraphs'])):  # 'paragraphs' list contains 'context' tag & 'qas' list.\n            context = data['data'][i]['paragraphs'][p]['context']\n                \n            for q in range(len(data['data'][i]['paragraphs'][p]['qas'])):  # 'qas' list contains 'question', 'Id' tag & 'answers' list.\n                \n                question = data['data'][i]['paragraphs'][p]['qas'][q]['question']\n                Id = data['data'][i]['paragraphs'][p]['qas'][q]['id']\n                is_impossible = data['data'][i]['paragraphs'][p]['qas'][q]['is_impossible']\n                for a in range(len(data['data'][i]['paragraphs'][p]['qas'][q]['answers'])): # 'answers' list contains 'ans_start', 'text' tags. \n                    \n                    text = data['data'][i]['paragraphs'][p]['qas'][q]['answers'][a]['text']\n                    \n                    con.append(context)\n                    Que.append(question)                \n                    Txt.append(text)\n\n\n    new_df = pd.DataFrame(columns=['Context','Question','Answer']) # Creating empty DataFrame.\n\n    new_df.Context = con\n    new_df.Question = Que\n    new_df.Answer = Txt\n    print('Done')\n    final_df = new_df.drop_duplicates(keep='first')  # Dropping duplicate rows from the create Dataframe.\n    return final_df",
      "execution_count": null,
      "outputs": []
    },
    {
      "cell_type": "markdown",
      "source": "### Load the train and test datasets",
      "metadata": {
        "id": "B3L1b-5nCK1c",
        "cell_id": "00004-fc36309a-b4dd-4f47-905c-4c08eb2cd7df",
        "deepnote_cell_type": "markdown"
      }
    },
    {
      "cell_type": "code",
      "metadata": {
        "colab": {
          "base_uri": "https://localhost:8080/"
        },
        "deepnote_to_be_reexecuted": false,
        "execution_millis": 1542,
        "execution_start": 1615563587654,
        "id": "yEacRAlyPtxr",
        "source_hash": "aad08eb",
        "tags": [],
        "outputId": "4ce73195-8137-492a-eda5-39daf6472359",
        "cell_id": "00005-ea29d466-c4a7-48ae-8df3-6a4855860eb9",
        "deepnote_cell_type": "code"
      },
      "source": "train = json_to_dataframe('train-v2.0.json')\ntest = json_to_dataframe('dev-v2.0.json')",
      "execution_count": null,
      "outputs": [
        {
          "output_type": "stream",
          "text": "Done\nDone\n",
          "name": "stdout"
        }
      ]
    },
    {
      "cell_type": "markdown",
      "source": "### Visualize the data",
      "metadata": {
        "id": "8d6I_22dCRgG",
        "cell_id": "00006-7e56bbf8-df5e-47f9-833a-44656e85ecf5",
        "deepnote_cell_type": "markdown"
      }
    },
    {
      "cell_type": "code",
      "metadata": {
        "colab": {
          "base_uri": "https://localhost:8080/",
          "height": 424
        },
        "deepnote_to_be_reexecuted": false,
        "execution_millis": 228,
        "execution_start": 1615563589226,
        "id": "dhsx8JloPtxu",
        "source_hash": "74c42809",
        "tags": [],
        "outputId": "e049bd82-41cc-4b45-d55b-3d9e8fd460d9",
        "cell_id": "00007-efc6fe82-da9e-412d-a0cc-f21a8a952ae0",
        "deepnote_cell_type": "code"
      },
      "source": "train",
      "execution_count": null,
      "outputs": [
        {
          "output_type": "execute_result",
          "data": {
            "text/html": "<div>\n<style scoped>\n    .dataframe tbody tr th:only-of-type {\n        vertical-align: middle;\n    }\n\n    .dataframe tbody tr th {\n        vertical-align: top;\n    }\n\n    .dataframe thead th {\n        text-align: right;\n    }\n</style>\n<table border=\"1\" class=\"dataframe\">\n  <thead>\n    <tr style=\"text-align: right;\">\n      <th></th>\n      <th>Context</th>\n      <th>Question</th>\n      <th>Answer</th>\n    </tr>\n  </thead>\n  <tbody>\n    <tr>\n      <th>0</th>\n      <td>Beyoncé Giselle Knowles-Carter (/biːˈjɒnseɪ/ b...</td>\n      <td>When did Beyonce start becoming popular?</td>\n      <td>in the late 1990s</td>\n    </tr>\n    <tr>\n      <th>1</th>\n      <td>Beyoncé Giselle Knowles-Carter (/biːˈjɒnseɪ/ b...</td>\n      <td>What areas did Beyonce compete in when she was...</td>\n      <td>singing and dancing</td>\n    </tr>\n    <tr>\n      <th>2</th>\n      <td>Beyoncé Giselle Knowles-Carter (/biːˈjɒnseɪ/ b...</td>\n      <td>When did Beyonce leave Destiny's Child and bec...</td>\n      <td>2003</td>\n    </tr>\n    <tr>\n      <th>3</th>\n      <td>Beyoncé Giselle Knowles-Carter (/biːˈjɒnseɪ/ b...</td>\n      <td>In what city and state did Beyonce  grow up?</td>\n      <td>Houston, Texas</td>\n    </tr>\n    <tr>\n      <th>4</th>\n      <td>Beyoncé Giselle Knowles-Carter (/biːˈjɒnseɪ/ b...</td>\n      <td>In which decade did Beyonce become famous?</td>\n      <td>late 1990s</td>\n    </tr>\n    <tr>\n      <th>...</th>\n      <td>...</td>\n      <td>...</td>\n      <td>...</td>\n    </tr>\n    <tr>\n      <th>86816</th>\n      <td>Kathmandu Metropolitan City (KMC), in order to...</td>\n      <td>In what US state did Kathmandu first establish...</td>\n      <td>Oregon</td>\n    </tr>\n    <tr>\n      <th>86817</th>\n      <td>Kathmandu Metropolitan City (KMC), in order to...</td>\n      <td>What was Yangon previously known as?</td>\n      <td>Rangoon</td>\n    </tr>\n    <tr>\n      <th>86818</th>\n      <td>Kathmandu Metropolitan City (KMC), in order to...</td>\n      <td>With what Belorussian city does Kathmandu have...</td>\n      <td>Minsk</td>\n    </tr>\n    <tr>\n      <th>86819</th>\n      <td>Kathmandu Metropolitan City (KMC), in order to...</td>\n      <td>In what year did Kathmandu create its initial ...</td>\n      <td>1975</td>\n    </tr>\n    <tr>\n      <th>86820</th>\n      <td>Kathmandu Metropolitan City (KMC), in order to...</td>\n      <td>What is KMC an initialism of?</td>\n      <td>Kathmandu Metropolitan City</td>\n    </tr>\n  </tbody>\n</table>\n<p>86798 rows × 3 columns</p>\n</div>",
            "text/plain": "                                                 Context  ...                       Answer\n0      Beyoncé Giselle Knowles-Carter (/biːˈjɒnseɪ/ b...  ...            in the late 1990s\n1      Beyoncé Giselle Knowles-Carter (/biːˈjɒnseɪ/ b...  ...          singing and dancing\n2      Beyoncé Giselle Knowles-Carter (/biːˈjɒnseɪ/ b...  ...                         2003\n3      Beyoncé Giselle Knowles-Carter (/biːˈjɒnseɪ/ b...  ...               Houston, Texas\n4      Beyoncé Giselle Knowles-Carter (/biːˈjɒnseɪ/ b...  ...                   late 1990s\n...                                                  ...  ...                          ...\n86816  Kathmandu Metropolitan City (KMC), in order to...  ...                       Oregon\n86817  Kathmandu Metropolitan City (KMC), in order to...  ...                      Rangoon\n86818  Kathmandu Metropolitan City (KMC), in order to...  ...                        Minsk\n86819  Kathmandu Metropolitan City (KMC), in order to...  ...                         1975\n86820  Kathmandu Metropolitan City (KMC), in order to...  ...  Kathmandu Metropolitan City\n\n[86798 rows x 3 columns]"
          },
          "metadata": {
            "tags": []
          },
          "execution_count": 4
        }
      ]
    },
    {
      "cell_type": "code",
      "metadata": {
        "colab": {
          "base_uri": "https://localhost:8080/",
          "height": 424
        },
        "deepnote_to_be_reexecuted": false,
        "execution_millis": 117,
        "execution_start": 1615563589446,
        "id": "yuSe9FpuPtxv",
        "source_hash": "e7d6389d",
        "tags": [],
        "outputId": "5530ec77-8f67-4c4a-eb18-596a993eec76",
        "cell_id": "00008-34069c50-6de1-4349-b136-ef4ed4f4d7b0",
        "deepnote_cell_type": "code"
      },
      "source": "test = test.reset_index(drop=True, inplace=False)\ntest",
      "execution_count": null,
      "outputs": [
        {
          "output_type": "execute_result",
          "data": {
            "text/html": "<div>\n<style scoped>\n    .dataframe tbody tr th:only-of-type {\n        vertical-align: middle;\n    }\n\n    .dataframe tbody tr th {\n        vertical-align: top;\n    }\n\n    .dataframe thead th {\n        text-align: right;\n    }\n</style>\n<table border=\"1\" class=\"dataframe\">\n  <thead>\n    <tr style=\"text-align: right;\">\n      <th></th>\n      <th>Context</th>\n      <th>Question</th>\n      <th>Answer</th>\n    </tr>\n  </thead>\n  <tbody>\n    <tr>\n      <th>0</th>\n      <td>The Normans (Norman: Nourmands; French: Norman...</td>\n      <td>In what country is Normandy located?</td>\n      <td>France</td>\n    </tr>\n    <tr>\n      <th>1</th>\n      <td>The Normans (Norman: Nourmands; French: Norman...</td>\n      <td>When were the Normans in Normandy?</td>\n      <td>10th and 11th centuries</td>\n    </tr>\n    <tr>\n      <th>2</th>\n      <td>The Normans (Norman: Nourmands; French: Norman...</td>\n      <td>When were the Normans in Normandy?</td>\n      <td>in the 10th and 11th centuries</td>\n    </tr>\n    <tr>\n      <th>3</th>\n      <td>The Normans (Norman: Nourmands; French: Norman...</td>\n      <td>From which countries did the Norse originate?</td>\n      <td>Denmark, Iceland and Norway</td>\n    </tr>\n    <tr>\n      <th>4</th>\n      <td>The Normans (Norman: Nourmands; French: Norman...</td>\n      <td>Who was the Norse leader?</td>\n      <td>Rollo</td>\n    </tr>\n    <tr>\n      <th>...</th>\n      <td>...</td>\n      <td>...</td>\n      <td>...</td>\n    </tr>\n    <tr>\n      <th>10272</th>\n      <td>The pound-force has a metric counterpart, less...</td>\n      <td>What is a very seldom used unit of mass in the...</td>\n      <td>slug</td>\n    </tr>\n    <tr>\n      <th>10273</th>\n      <td>The pound-force has a metric counterpart, less...</td>\n      <td>What is a very seldom used unit of mass in the...</td>\n      <td>metric slug</td>\n    </tr>\n    <tr>\n      <th>10274</th>\n      <td>The pound-force has a metric counterpart, less...</td>\n      <td>What is a very seldom used unit of mass in the...</td>\n      <td>the metric slug</td>\n    </tr>\n    <tr>\n      <th>10275</th>\n      <td>The pound-force has a metric counterpart, less...</td>\n      <td>What seldom used term of a unit of force equal...</td>\n      <td>kip</td>\n    </tr>\n    <tr>\n      <th>10276</th>\n      <td>The pound-force has a metric counterpart, less...</td>\n      <td>What is the seldom used force unit equal to on...</td>\n      <td>sthène</td>\n    </tr>\n  </tbody>\n</table>\n<p>10277 rows × 3 columns</p>\n</div>",
            "text/plain": "                                                 Context  ...                          Answer\n0      The Normans (Norman: Nourmands; French: Norman...  ...                          France\n1      The Normans (Norman: Nourmands; French: Norman...  ...         10th and 11th centuries\n2      The Normans (Norman: Nourmands; French: Norman...  ...  in the 10th and 11th centuries\n3      The Normans (Norman: Nourmands; French: Norman...  ...     Denmark, Iceland and Norway\n4      The Normans (Norman: Nourmands; French: Norman...  ...                           Rollo\n...                                                  ...  ...                             ...\n10272  The pound-force has a metric counterpart, less...  ...                            slug\n10273  The pound-force has a metric counterpart, less...  ...                     metric slug\n10274  The pound-force has a metric counterpart, less...  ...                 the metric slug\n10275  The pound-force has a metric counterpart, less...  ...                             kip\n10276  The pound-force has a metric counterpart, less...  ...                          sthène\n\n[10277 rows x 3 columns]"
          },
          "metadata": {
            "tags": []
          },
          "execution_count": 5
        }
      ]
    },
    {
      "cell_type": "markdown",
      "source": "### Get the start and end index words of the answers",
      "metadata": {
        "id": "y_hlHdoeCV0W",
        "cell_id": "00009-8cf18e86-d52d-435b-bf1a-4692c1f83fa3",
        "deepnote_cell_type": "markdown"
      }
    },
    {
      "cell_type": "code",
      "metadata": {
        "deepnote_to_be_reexecuted": false,
        "execution_millis": 11486,
        "execution_start": 1615563592136,
        "source_hash": "59537e73",
        "tags": [],
        "id": "xb4hS5f6920N",
        "cell_id": "00010-650a5b80-9a3e-41ce-8e9f-11a71dc489bb",
        "deepnote_cell_type": "code"
      },
      "source": "from keras.preprocessing.text import text_to_word_sequence\n\ndef get_start_end_words(row):\n    answer = text_to_word_sequence(row['Answer'])\n    context = text_to_word_sequence(row['Context'])\n    \n    start_word=end_word=-1\n    \n    match=False\n    if not answer:\n        row['Start_Word'] = start_word\n        row['End_Word'] = end_word\n        return row\n\n    for j in range(len(context)-len(answer)):\n        \n        if context[j] == answer[0]:\n            match=True\n            k=0\n            for k in range(1, len(answer)):\n                if context[j+k] != answer[k]:\n                    match=False\n            if match==True:\n                start_word=j\n                end_word=j+k\n                break\n  \n    row['Start_Word'] = start_word\n    row['End_Word'] = end_word\n\n    return row",
      "execution_count": null,
      "outputs": []
    },
    {
      "cell_type": "code",
      "metadata": {
        "deepnote_to_be_reexecuted": false,
        "execution_millis": 124607,
        "execution_start": 1615563669007,
        "source_hash": "2154b88c",
        "tags": [],
        "id": "xppvsPbs920O",
        "cell_id": "00011-0196c717-3e6e-4c31-bbd6-dc76d1d42125",
        "deepnote_cell_type": "code"
      },
      "source": "train =  train.apply(get_start_end_words, axis=1)\ntest =  test.apply(get_start_end_words, axis=1)",
      "execution_count": null,
      "outputs": []
    },
    {
      "cell_type": "code",
      "metadata": {
        "colab": {
          "base_uri": "https://localhost:8080/",
          "height": 424
        },
        "deepnote_to_be_reexecuted": false,
        "execution_millis": 36,
        "execution_start": 1615563793615,
        "id": "2ejzFJWHPtxw",
        "output_cleared": false,
        "source_hash": "951a9862",
        "tags": [],
        "outputId": "c4bffa79-f8a6-4296-f83f-8ee3a9a27872",
        "cell_id": "00012-624f6e49-cac0-4f03-9c21-50ebe6e5d1c9",
        "deepnote_cell_type": "code"
      },
      "source": "train",
      "execution_count": null,
      "outputs": [
        {
          "output_type": "execute_result",
          "data": {
            "text/html": "<div>\n<style scoped>\n    .dataframe tbody tr th:only-of-type {\n        vertical-align: middle;\n    }\n\n    .dataframe tbody tr th {\n        vertical-align: top;\n    }\n\n    .dataframe thead th {\n        text-align: right;\n    }\n</style>\n<table border=\"1\" class=\"dataframe\">\n  <thead>\n    <tr style=\"text-align: right;\">\n      <th></th>\n      <th>Context</th>\n      <th>Question</th>\n      <th>Answer</th>\n      <th>Start_Word</th>\n      <th>End_Word</th>\n    </tr>\n  </thead>\n  <tbody>\n    <tr>\n      <th>0</th>\n      <td>Beyoncé Giselle Knowles-Carter (/biːˈjɒnseɪ/ b...</td>\n      <td>When did Beyonce start becoming popular?</td>\n      <td>in the late 1990s</td>\n      <td>42</td>\n      <td>45</td>\n    </tr>\n    <tr>\n      <th>1</th>\n      <td>Beyoncé Giselle Knowles-Carter (/biːˈjɒnseɪ/ b...</td>\n      <td>What areas did Beyonce compete in when she was...</td>\n      <td>singing and dancing</td>\n      <td>31</td>\n      <td>33</td>\n    </tr>\n    <tr>\n      <th>2</th>\n      <td>Beyoncé Giselle Knowles-Carter (/biːˈjɒnseɪ/ b...</td>\n      <td>When did Beyonce leave Destiny's Child and bec...</td>\n      <td>2003</td>\n      <td>88</td>\n      <td>88</td>\n    </tr>\n    <tr>\n      <th>3</th>\n      <td>Beyoncé Giselle Knowles-Carter (/biːˈjɒnseɪ/ b...</td>\n      <td>In what city and state did Beyonce  grow up?</td>\n      <td>Houston, Texas</td>\n      <td>25</td>\n      <td>26</td>\n    </tr>\n    <tr>\n      <th>4</th>\n      <td>Beyoncé Giselle Knowles-Carter (/biːˈjɒnseɪ/ b...</td>\n      <td>In which decade did Beyonce become famous?</td>\n      <td>late 1990s</td>\n      <td>44</td>\n      <td>45</td>\n    </tr>\n    <tr>\n      <th>...</th>\n      <td>...</td>\n      <td>...</td>\n      <td>...</td>\n      <td>...</td>\n      <td>...</td>\n    </tr>\n    <tr>\n      <th>86816</th>\n      <td>Kathmandu Metropolitan City (KMC), in order to...</td>\n      <td>In what US state did Kathmandu first establish...</td>\n      <td>Oregon</td>\n      <td>30</td>\n      <td>30</td>\n    </tr>\n    <tr>\n      <th>86817</th>\n      <td>Kathmandu Metropolitan City (KMC), in order to...</td>\n      <td>What was Yangon previously known as?</td>\n      <td>Rangoon</td>\n      <td>57</td>\n      <td>57</td>\n    </tr>\n    <tr>\n      <th>86818</th>\n      <td>Kathmandu Metropolitan City (KMC), in order to...</td>\n      <td>With what Belorussian city does Kathmandu have...</td>\n      <td>Minsk</td>\n      <td>67</td>\n      <td>67</td>\n    </tr>\n    <tr>\n      <th>86819</th>\n      <td>Kathmandu Metropolitan City (KMC), in order to...</td>\n      <td>In what year did Kathmandu create its initial ...</td>\n      <td>1975</td>\n      <td>24</td>\n      <td>24</td>\n    </tr>\n    <tr>\n      <th>86820</th>\n      <td>Kathmandu Metropolitan City (KMC), in order to...</td>\n      <td>What is KMC an initialism of?</td>\n      <td>Kathmandu Metropolitan City</td>\n      <td>0</td>\n      <td>2</td>\n    </tr>\n  </tbody>\n</table>\n<p>86798 rows × 5 columns</p>\n</div>",
            "text/plain": "                                                 Context  ... End_Word\n0      Beyoncé Giselle Knowles-Carter (/biːˈjɒnseɪ/ b...  ...       45\n1      Beyoncé Giselle Knowles-Carter (/biːˈjɒnseɪ/ b...  ...       33\n2      Beyoncé Giselle Knowles-Carter (/biːˈjɒnseɪ/ b...  ...       88\n3      Beyoncé Giselle Knowles-Carter (/biːˈjɒnseɪ/ b...  ...       26\n4      Beyoncé Giselle Knowles-Carter (/biːˈjɒnseɪ/ b...  ...       45\n...                                                  ...  ...      ...\n86816  Kathmandu Metropolitan City (KMC), in order to...  ...       30\n86817  Kathmandu Metropolitan City (KMC), in order to...  ...       57\n86818  Kathmandu Metropolitan City (KMC), in order to...  ...       67\n86819  Kathmandu Metropolitan City (KMC), in order to...  ...       24\n86820  Kathmandu Metropolitan City (KMC), in order to...  ...        2\n\n[86798 rows x 5 columns]"
          },
          "metadata": {
            "tags": []
          },
          "execution_count": 8
        }
      ]
    },
    {
      "cell_type": "markdown",
      "source": "### We remove the rows where we could not find the answers indexes",
      "metadata": {
        "id": "jBge_jKgChXq",
        "cell_id": "00013-e3739276-e73e-4797-95ed-3a48c8537333",
        "deepnote_cell_type": "markdown"
      }
    },
    {
      "cell_type": "code",
      "metadata": {
        "deepnote_to_be_reexecuted": false,
        "execution_millis": 56,
        "execution_start": 1615563793649,
        "source_hash": "45fa93a2",
        "tags": [],
        "id": "lnWkSHuO920P",
        "cell_id": "00014-64f5ba28-0fb3-4403-8545-f3759306323a",
        "deepnote_cell_type": "code"
      },
      "source": "train = train[train['Start_Word']!=-1]\ntest = test[test['Start_Word']!=-1]",
      "execution_count": null,
      "outputs": []
    },
    {
      "cell_type": "code",
      "metadata": {
        "deepnote_to_be_reexecuted": false,
        "execution_millis": 5,
        "execution_start": 1615563793710,
        "source_hash": "c83b81b3",
        "tags": [],
        "id": "mZVw-C4k920P",
        "cell_id": "00015-abd9d1f1-beca-4f68-a1b3-90f6b1013584",
        "deepnote_cell_type": "code"
      },
      "source": "train = train.reset_index(drop=True, inplace=False)\ntest = test.reset_index(drop=True, inplace=False)",
      "execution_count": null,
      "outputs": []
    },
    {
      "cell_type": "markdown",
      "source": "## We transform the Context and the Question to sequences",
      "metadata": {
        "id": "70MTvjXdCsA7",
        "cell_id": "00016-ed98c576-8bd9-42cd-9269-4f0aab87f0d2",
        "deepnote_cell_type": "markdown"
      }
    },
    {
      "cell_type": "markdown",
      "source": "### Keras Tokenizer",
      "metadata": {
        "id": "vzRZBqQuC0OA",
        "cell_id": "00017-699a39b4-fa82-4650-bea0-766ebdd00e58",
        "deepnote_cell_type": "markdown"
      }
    },
    {
      "cell_type": "code",
      "metadata": {
        "deepnote_to_be_reexecuted": false,
        "execution_millis": 11477,
        "execution_start": 1615563793781,
        "id": "qI15GUw-hJLQ",
        "source_hash": "b92496ba",
        "cell_id": "00018-df39c859-87e7-4f4c-a138-63cac64a198c",
        "deepnote_cell_type": "code"
      },
      "source": "from tensorflow.keras.preprocessing.text import Tokenizer\nfrom tensorflow.keras.preprocessing.sequence import pad_sequences\n\ntokenizer = Tokenizer()\ntokenizer.fit_on_texts(train.Context)\ntokenizer.fit_on_texts(train.Question)\n\ntokenizer.fit_on_texts(test.Context)\ntokenizer.fit_on_texts(test.Question)",
      "execution_count": null,
      "outputs": []
    },
    {
      "cell_type": "markdown",
      "source": "### Vocab size",
      "metadata": {
        "id": "rm_2p8mFDBxp",
        "cell_id": "00019-3e13c778-ce61-459c-8c2f-3e24d4ffb4b2",
        "deepnote_cell_type": "markdown"
      }
    },
    {
      "cell_type": "code",
      "metadata": {
        "deepnote_to_be_reexecuted": false,
        "execution_millis": 4,
        "execution_start": 1615563805258,
        "source_hash": "35c6b3ce",
        "tags": [],
        "colab": {
          "base_uri": "https://localhost:8080/"
        },
        "id": "dr1JYTzy920R",
        "outputId": "2ad35f14-8236-47cb-924b-9e9d2e14c5da",
        "cell_id": "00020-7b8b1346-4e82-4435-99bd-b93b2af865fe",
        "deepnote_cell_type": "code"
      },
      "source": "vocab_size = len(tokenizer.word_index) + 1\nvocab_size",
      "execution_count": null,
      "outputs": [
        {
          "output_type": "execute_result",
          "data": {
            "text/plain": "94929"
          },
          "metadata": {
            "tags": []
          },
          "execution_count": 12
        }
      ]
    },
    {
      "cell_type": "markdown",
      "source": "### Transform the text into word sequences based on the vocabulary",
      "metadata": {
        "id": "S5mslxaUDHm-",
        "cell_id": "00021-fd20a0aa-aae1-4846-8395-510907e96307",
        "deepnote_cell_type": "markdown"
      }
    },
    {
      "cell_type": "code",
      "metadata": {
        "deepnote_to_be_reexecuted": false,
        "execution_millis": 8875,
        "execution_start": 1615563805259,
        "id": "FrtMauZrhdQ9",
        "source_hash": "2204498c",
        "cell_id": "00022-b1b2eac0-dd24-4f9e-917b-8082b73e5581",
        "deepnote_cell_type": "code"
      },
      "source": "#train\ncontext_sequences = tokenizer.texts_to_sequences(train.Context)\nquestion_sequences = tokenizer.texts_to_sequences(train.Question)\n#test\ntest_context_sequences = tokenizer.texts_to_sequences(test.Context)\ntest_question_sequences = tokenizer.texts_to_sequences(test.Question)",
      "execution_count": null,
      "outputs": []
    },
    {
      "cell_type": "code",
      "metadata": {
        "deepnote_to_be_reexecuted": false,
        "execution_millis": 78,
        "execution_start": 1615563814342,
        "id": "EBAFciIPiuUK",
        "source_hash": "8a7fc686",
        "cell_id": "00023-663d4b69-0ecc-4e7a-b2a5-06f91a635767",
        "deepnote_cell_type": "code"
      },
      "source": "#train\ntrain[\"Context_Sequences\"] = context_sequences\ntrain[\"Question_Sequences\"] = question_sequences\n#test\ntest[\"Context_Sequences\"] = test_context_sequences\ntest[\"Question_Sequences\"] = test_question_sequences",
      "execution_count": null,
      "outputs": []
    },
    {
      "cell_type": "markdown",
      "source": "### We pad the sequences in order to have the same lenght for each Context and each Question",
      "metadata": {
        "id": "K0rw2Z3RDTqp",
        "cell_id": "00024-ae4999c8-219c-4004-831b-036790c1fcde",
        "deepnote_cell_type": "markdown"
      }
    },
    {
      "cell_type": "code",
      "metadata": {
        "deepnote_to_be_reexecuted": false,
        "execution_millis": 1594,
        "execution_start": 1615563814435,
        "id": "yif2pya0br4G",
        "source_hash": "c7cf17b6",
        "cell_id": "00025-54f43e32-8a30-4f01-b86e-152704433396",
        "deepnote_cell_type": "code"
      },
      "source": "#train\ncontext_padded = pad_sequences(context_sequences, maxlen = 700, padding=\"post\")\nquestion_padded = pad_sequences(question_sequences, maxlen = 50, padding=\"post\")\n#test\ntest_context_padded = pad_sequences(test_context_sequences, maxlen = 700, padding=\"post\")\ntest_question_padded = pad_sequences(test_question_sequences, maxlen = 50, padding=\"post\")",
      "execution_count": null,
      "outputs": []
    },
    {
      "cell_type": "code",
      "metadata": {
        "colab": {
          "base_uri": "https://localhost:8080/",
          "height": 598
        },
        "deepnote_to_be_reexecuted": false,
        "execution_millis": 402,
        "execution_start": 1615563818874,
        "id": "UR6X9O0Ej1E8",
        "source_hash": "542e358",
        "outputId": "66c892cb-9f38-4b9d-85aa-de0f02c42043",
        "cell_id": "00026-f876291a-e662-46c9-91be-4a6f01a57a83",
        "deepnote_cell_type": "code"
      },
      "source": "#train\ntrain[\"Context_Sequences\"] = context_padded.tolist()\ntrain[\"Question_Sequences\"] = question_padded.tolist()\n#test\ntest[\"Context_Sequences\"] = test_context_padded.tolist()\ntest[\"Question_Sequences\"] = test_question_padded.tolist()\ntrain",
      "execution_count": null,
      "outputs": [
        {
          "output_type": "execute_result",
          "data": {
            "text/html": "<div>\n<style scoped>\n    .dataframe tbody tr th:only-of-type {\n        vertical-align: middle;\n    }\n\n    .dataframe tbody tr th {\n        vertical-align: top;\n    }\n\n    .dataframe thead th {\n        text-align: right;\n    }\n</style>\n<table border=\"1\" class=\"dataframe\">\n  <thead>\n    <tr style=\"text-align: right;\">\n      <th></th>\n      <th>Context</th>\n      <th>Question</th>\n      <th>Answer</th>\n      <th>Start_Word</th>\n      <th>End_Word</th>\n      <th>Context_Sequences</th>\n      <th>Question_Sequences</th>\n    </tr>\n  </thead>\n  <tbody>\n    <tr>\n      <th>0</th>\n      <td>Beyoncé Giselle Knowles-Carter (/biːˈjɒnseɪ/ b...</td>\n      <td>When did Beyonce start becoming popular?</td>\n      <td>in the late 1990s</td>\n      <td>42</td>\n      <td>45</td>\n      <td>[653, 21187, 8601, 7659, 30926, 11471, 30927, ...</td>\n      <td>[46, 44, 5170, 765, 1087, 304, 0, 0, 0, 0, 0, ...</td>\n    </tr>\n    <tr>\n      <th>1</th>\n      <td>Beyoncé Giselle Knowles-Carter (/biːˈjɒnseɪ/ b...</td>\n      <td>What areas did Beyonce compete in when she was...</td>\n      <td>singing and dancing</td>\n      <td>31</td>\n      <td>33</td>\n      <td>[653, 21187, 8601, 7659, 30926, 11471, 30927, ...</td>\n      <td>[17, 211, 44, 5170, 3504, 4, 46, 199, 9, 1076,...</td>\n    </tr>\n    <tr>\n      <th>2</th>\n      <td>Beyoncé Giselle Knowles-Carter (/biːˈjɒnseɪ/ b...</td>\n      <td>When did Beyonce leave Destiny's Child and bec...</td>\n      <td>2003</td>\n      <td>88</td>\n      <td>88</td>\n      <td>[653, 21187, 8601, 7659, 30926, 11471, 30927, ...</td>\n      <td>[46, 44, 5170, 2145, 4990, 815, 3, 236, 6, 278...</td>\n    </tr>\n    <tr>\n      <th>3</th>\n      <td>Beyoncé Giselle Knowles-Carter (/biːˈjɒnseɪ/ b...</td>\n      <td>In what city and state did Beyonce  grow up?</td>\n      <td>Houston, Texas</td>\n      <td>25</td>\n      <td>26</td>\n      <td>[653, 21187, 8601, 7659, 30926, 11471, 30927, ...</td>\n      <td>[4, 17, 49, 3, 64, 44, 5170, 2153, 96, 0, 0, 0...</td>\n    </tr>\n    <tr>\n      <th>4</th>\n      <td>Beyoncé Giselle Knowles-Carter (/biːˈjɒnseɪ/ b...</td>\n      <td>In which decade did Beyonce become famous?</td>\n      <td>late 1990s</td>\n      <td>44</td>\n      <td>45</td>\n      <td>[653, 21187, 8601, 7659, 30926, 11471, 30927, ...</td>\n      <td>[4, 18, 1300, 44, 5170, 236, 810, 0, 0, 0, 0, ...</td>\n    </tr>\n    <tr>\n      <th>...</th>\n      <td>...</td>\n      <td>...</td>\n      <td>...</td>\n      <td>...</td>\n      <td>...</td>\n      <td>...</td>\n      <td>...</td>\n    </tr>\n    <tr>\n      <th>82021</th>\n      <td>Kathmandu Metropolitan City (KMC), in order to...</td>\n      <td>In what US state did Kathmandu first establish...</td>\n      <td>Oregon</td>\n      <td>30</td>\n      <td>30</td>\n      <td>[2100, 967, 49, 38371, 4, 239, 5, 2668, 185, 1...</td>\n      <td>[4, 17, 217, 64, 44, 2100, 36, 1584, 23, 185, ...</td>\n    </tr>\n    <tr>\n      <th>82022</th>\n      <td>Kathmandu Metropolitan City (KMC), in order to...</td>\n      <td>What was Yangon previously known as?</td>\n      <td>Rangoon</td>\n      <td>57</td>\n      <td>57</td>\n      <td>[2100, 967, 49, 38371, 4, 239, 5, 2668, 185, 1...</td>\n      <td>[17, 9, 17351, 920, 77, 8, 0, 0, 0, 0, 0, 0, 0...</td>\n    </tr>\n    <tr>\n      <th>82023</th>\n      <td>Kathmandu Metropolitan City (KMC), in order to...</td>\n      <td>With what Belorussian city does Kathmandu have...</td>\n      <td>Minsk</td>\n      <td>67</td>\n      <td>67</td>\n      <td>[2100, 967, 49, 38371, 4, 239, 5, 2668, 185, 1...</td>\n      <td>[13, 17, 52700, 49, 130, 2100, 27, 6, 846, 0, ...</td>\n    </tr>\n    <tr>\n      <th>82024</th>\n      <td>Kathmandu Metropolitan City (KMC), in order to...</td>\n      <td>In what year did Kathmandu create its initial ...</td>\n      <td>1975</td>\n      <td>24</td>\n      <td>24</td>\n      <td>[2100, 967, 49, 38371, 4, 239, 5, 2668, 185, 1...</td>\n      <td>[4, 17, 75, 44, 2100, 910, 32, 1725, 185, 846,...</td>\n    </tr>\n    <tr>\n      <th>82025</th>\n      <td>Kathmandu Metropolitan City (KMC), in order to...</td>\n      <td>What is KMC an initialism of?</td>\n      <td>Kathmandu Metropolitan City</td>\n      <td>0</td>\n      <td>2</td>\n      <td>[2100, 967, 49, 38371, 4, 239, 5, 2668, 185, 1...</td>\n      <td>[17, 7, 38371, 23, 49980, 2, 0, 0, 0, 0, 0, 0,...</td>\n    </tr>\n  </tbody>\n</table>\n<p>82026 rows × 7 columns</p>\n</div>",
            "text/plain": "                                                 Context  ...                                 Question_Sequences\n0      Beyoncé Giselle Knowles-Carter (/biːˈjɒnseɪ/ b...  ...  [46, 44, 5170, 765, 1087, 304, 0, 0, 0, 0, 0, ...\n1      Beyoncé Giselle Knowles-Carter (/biːˈjɒnseɪ/ b...  ...  [17, 211, 44, 5170, 3504, 4, 46, 199, 9, 1076,...\n2      Beyoncé Giselle Knowles-Carter (/biːˈjɒnseɪ/ b...  ...  [46, 44, 5170, 2145, 4990, 815, 3, 236, 6, 278...\n3      Beyoncé Giselle Knowles-Carter (/biːˈjɒnseɪ/ b...  ...  [4, 17, 49, 3, 64, 44, 5170, 2153, 96, 0, 0, 0...\n4      Beyoncé Giselle Knowles-Carter (/biːˈjɒnseɪ/ b...  ...  [4, 18, 1300, 44, 5170, 236, 810, 0, 0, 0, 0, ...\n...                                                  ...  ...                                                ...\n82021  Kathmandu Metropolitan City (KMC), in order to...  ...  [4, 17, 217, 64, 44, 2100, 36, 1584, 23, 185, ...\n82022  Kathmandu Metropolitan City (KMC), in order to...  ...  [17, 9, 17351, 920, 77, 8, 0, 0, 0, 0, 0, 0, 0...\n82023  Kathmandu Metropolitan City (KMC), in order to...  ...  [13, 17, 52700, 49, 130, 2100, 27, 6, 846, 0, ...\n82024  Kathmandu Metropolitan City (KMC), in order to...  ...  [4, 17, 75, 44, 2100, 910, 32, 1725, 185, 846,...\n82025  Kathmandu Metropolitan City (KMC), in order to...  ...  [17, 7, 38371, 23, 49980, 2, 0, 0, 0, 0, 0, 0,...\n\n[82026 rows x 7 columns]"
          },
          "metadata": {
            "tags": []
          },
          "execution_count": 16
        }
      ]
    },
    {
      "cell_type": "code",
      "metadata": {
        "deepnote_to_be_reexecuted": false,
        "execution_millis": 4,
        "execution_start": 1615563819260,
        "source_hash": "8c6d3b9f",
        "tags": [],
        "colab": {
          "base_uri": "https://localhost:8080/"
        },
        "id": "Ft3pftTd920S",
        "outputId": "5d7eb124-0c01-49fd-e89e-f76d081788bc",
        "cell_id": "00027-ece1b395-d4e2-45cb-821c-537a16b3b730",
        "deepnote_cell_type": "code"
      },
      "source": "max_length_context = len(train.Context_Sequences[0])\nprint(max_length_context)\nmax_length_question = len(train.Question_Sequences[0])\nprint(max_length_question)",
      "execution_count": null,
      "outputs": [
        {
          "output_type": "stream",
          "text": "700\n50\n",
          "name": "stdout"
        }
      ]
    },
    {
      "cell_type": "markdown",
      "source": "### We define our features and labels for the train and test sets ",
      "metadata": {
        "id": "nGtMsI1pDjZF",
        "cell_id": "00028-e49d36e6-2f45-4967-9719-b1658c31c3cb",
        "deepnote_cell_type": "markdown"
      }
    },
    {
      "cell_type": "code",
      "metadata": {
        "deepnote_to_be_reexecuted": false,
        "execution_millis": 22,
        "execution_start": 1615563819269,
        "source_hash": "8c09db6b",
        "tags": [],
        "id": "kqz5X1TG920T",
        "cell_id": "00029-1001cb1c-d51a-4d5c-8699-b39b05151318",
        "deepnote_cell_type": "code"
      },
      "source": "X_train = train[['Context_Sequences','Question_Sequences']]\ny_train = train[['Start_Word','End_Word']]\n\nX_test = test[['Context_Sequences','Question_Sequences']]\ny_test = test[['Start_Word','End_Word']]",
      "execution_count": null,
      "outputs": []
    },
    {
      "cell_type": "code",
      "metadata": {
        "colab": {
          "base_uri": "https://localhost:8080/",
          "height": 424
        },
        "id": "hNzoFTXbGIsC",
        "outputId": "0fda67a9-0e1d-41f5-e35b-59f1c31bbeb2",
        "cell_id": "00030-b9e5d8db-e7b4-4dcd-bec2-3fd59094bc4a",
        "deepnote_cell_type": "code"
      },
      "source": "X_train",
      "execution_count": null,
      "outputs": [
        {
          "output_type": "execute_result",
          "data": {
            "text/html": "<div>\n<style scoped>\n    .dataframe tbody tr th:only-of-type {\n        vertical-align: middle;\n    }\n\n    .dataframe tbody tr th {\n        vertical-align: top;\n    }\n\n    .dataframe thead th {\n        text-align: right;\n    }\n</style>\n<table border=\"1\" class=\"dataframe\">\n  <thead>\n    <tr style=\"text-align: right;\">\n      <th></th>\n      <th>Context_Sequences</th>\n      <th>Question_Sequences</th>\n    </tr>\n  </thead>\n  <tbody>\n    <tr>\n      <th>0</th>\n      <td>[653, 21187, 8601, 7659, 30926, 11471, 30927, ...</td>\n      <td>[46, 44, 5170, 765, 1087, 304, 0, 0, 0, 0, 0, ...</td>\n    </tr>\n    <tr>\n      <th>1</th>\n      <td>[653, 21187, 8601, 7659, 30926, 11471, 30927, ...</td>\n      <td>[17, 211, 44, 5170, 3504, 4, 46, 199, 9, 1076,...</td>\n    </tr>\n    <tr>\n      <th>2</th>\n      <td>[653, 21187, 8601, 7659, 30926, 11471, 30927, ...</td>\n      <td>[46, 44, 5170, 2145, 4990, 815, 3, 236, 6, 278...</td>\n    </tr>\n    <tr>\n      <th>3</th>\n      <td>[653, 21187, 8601, 7659, 30926, 11471, 30927, ...</td>\n      <td>[4, 17, 49, 3, 64, 44, 5170, 2153, 96, 0, 0, 0...</td>\n    </tr>\n    <tr>\n      <th>4</th>\n      <td>[653, 21187, 8601, 7659, 30926, 11471, 30927, ...</td>\n      <td>[4, 18, 1300, 44, 5170, 236, 810, 0, 0, 0, 0, ...</td>\n    </tr>\n    <tr>\n      <th>...</th>\n      <td>...</td>\n      <td>...</td>\n    </tr>\n    <tr>\n      <th>82021</th>\n      <td>[2100, 967, 49, 38371, 4, 239, 5, 2668, 185, 1...</td>\n      <td>[4, 17, 217, 64, 44, 2100, 36, 1584, 23, 185, ...</td>\n    </tr>\n    <tr>\n      <th>82022</th>\n      <td>[2100, 967, 49, 38371, 4, 239, 5, 2668, 185, 1...</td>\n      <td>[17, 9, 17351, 920, 77, 8, 0, 0, 0, 0, 0, 0, 0...</td>\n    </tr>\n    <tr>\n      <th>82023</th>\n      <td>[2100, 967, 49, 38371, 4, 239, 5, 2668, 185, 1...</td>\n      <td>[13, 17, 52700, 49, 130, 2100, 27, 6, 846, 0, ...</td>\n    </tr>\n    <tr>\n      <th>82024</th>\n      <td>[2100, 967, 49, 38371, 4, 239, 5, 2668, 185, 1...</td>\n      <td>[4, 17, 75, 44, 2100, 910, 32, 1725, 185, 846,...</td>\n    </tr>\n    <tr>\n      <th>82025</th>\n      <td>[2100, 967, 49, 38371, 4, 239, 5, 2668, 185, 1...</td>\n      <td>[17, 7, 38371, 23, 49980, 2, 0, 0, 0, 0, 0, 0,...</td>\n    </tr>\n  </tbody>\n</table>\n<p>82026 rows × 2 columns</p>\n</div>",
            "text/plain": "                                       Context_Sequences                                 Question_Sequences\n0      [653, 21187, 8601, 7659, 30926, 11471, 30927, ...  [46, 44, 5170, 765, 1087, 304, 0, 0, 0, 0, 0, ...\n1      [653, 21187, 8601, 7659, 30926, 11471, 30927, ...  [17, 211, 44, 5170, 3504, 4, 46, 199, 9, 1076,...\n2      [653, 21187, 8601, 7659, 30926, 11471, 30927, ...  [46, 44, 5170, 2145, 4990, 815, 3, 236, 6, 278...\n3      [653, 21187, 8601, 7659, 30926, 11471, 30927, ...  [4, 17, 49, 3, 64, 44, 5170, 2153, 96, 0, 0, 0...\n4      [653, 21187, 8601, 7659, 30926, 11471, 30927, ...  [4, 18, 1300, 44, 5170, 236, 810, 0, 0, 0, 0, ...\n...                                                  ...                                                ...\n82021  [2100, 967, 49, 38371, 4, 239, 5, 2668, 185, 1...  [4, 17, 217, 64, 44, 2100, 36, 1584, 23, 185, ...\n82022  [2100, 967, 49, 38371, 4, 239, 5, 2668, 185, 1...  [17, 9, 17351, 920, 77, 8, 0, 0, 0, 0, 0, 0, 0...\n82023  [2100, 967, 49, 38371, 4, 239, 5, 2668, 185, 1...  [13, 17, 52700, 49, 130, 2100, 27, 6, 846, 0, ...\n82024  [2100, 967, 49, 38371, 4, 239, 5, 2668, 185, 1...  [4, 17, 75, 44, 2100, 910, 32, 1725, 185, 846,...\n82025  [2100, 967, 49, 38371, 4, 239, 5, 2668, 185, 1...  [17, 7, 38371, 23, 49980, 2, 0, 0, 0, 0, 0, 0,...\n\n[82026 rows x 2 columns]"
          },
          "metadata": {
            "tags": []
          },
          "execution_count": 19
        }
      ]
    },
    {
      "cell_type": "code",
      "metadata": {
        "colab": {
          "base_uri": "https://localhost:8080/"
        },
        "id": "NxC3pKesGKdH",
        "outputId": "853ff1c6-260e-4006-99d5-d87278071588",
        "cell_id": "00031-a7454421-68fb-4818-aa4e-a1d070dbdc84",
        "deepnote_cell_type": "code"
      },
      "source": "y_train",
      "execution_count": null,
      "outputs": [
        {
          "output_type": "execute_result",
          "data": {
            "text/plain": "0        42\n1        31\n2        88\n3        25\n4        44\n         ..\n82021    30\n82022    57\n82023    67\n82024    24\n82025     0\nName: Start_Word, Length: 82026, dtype: int64"
          },
          "metadata": {
            "tags": []
          },
          "execution_count": 116
        }
      ]
    },
    {
      "cell_type": "markdown",
      "source": "## Load the GloVe word embedding\n### GloVe is an unsupervised learning algorithm for obtaining vector representations for words (https://nlp.stanford.edu/projects/glove/)",
      "metadata": {
        "tags": [],
        "id": "BCxSQWYv920T",
        "cell_id": "00032-bc955f6d-b860-41d8-a096-2463f39deaa7",
        "deepnote_cell_type": "markdown"
      }
    },
    {
      "cell_type": "code",
      "metadata": {
        "deepnote_to_be_reexecuted": false,
        "execution_millis": 10230,
        "execution_start": 1615563819290,
        "source_hash": "c7e2b38c",
        "tags": [],
        "colab": {
          "base_uri": "https://localhost:8080/"
        },
        "id": "8ekS3yNO920T",
        "outputId": "60843517-5ba5-4e67-c4c2-985c9227aa2b",
        "cell_id": "00033-363d9b32-8505-4c46-a953-3a9ce2865dbf",
        "deepnote_cell_type": "code"
      },
      "source": "embeddings_index = dict()\nf = open('glove.6B.100d.txt')\nfor line in f:\n values = line.split()\n word = values[0]\n coefs = np.asarray(values[1:], dtype='float32')\n embeddings_index[word] = coefs\nf.close()\nprint('Loaded %s word vectors.' % len(embeddings_index))",
      "execution_count": null,
      "outputs": [
        {
          "output_type": "stream",
          "text": "Loaded 400000 word vectors.\n",
          "name": "stdout"
        }
      ]
    },
    {
      "cell_type": "markdown",
      "source": "### Now we create the embedding matrix. We match each word in the GloVe word embeddings vector and our words in the vocabulary",
      "metadata": {
        "id": "7yCienxxDypJ",
        "cell_id": "00034-3c1ea371-279a-47fe-8f49-ff5714b26224",
        "deepnote_cell_type": "markdown"
      }
    },
    {
      "cell_type": "code",
      "metadata": {
        "deepnote_to_be_reexecuted": false,
        "execution_millis": 152,
        "execution_start": 1615563829501,
        "source_hash": "c796700",
        "tags": [],
        "id": "Rk2paj_m920T",
        "cell_id": "00035-cee5c4b2-6203-40ab-aa9f-f0e23df20ee9",
        "deepnote_cell_type": "code"
      },
      "source": "count = 0\nembedding_matrix = np.zeros((vocab_size, 100))\nfor word, i in tokenizer.word_index.items():\n embedding_vector = embeddings_index.get(word)\n if embedding_vector is not None:\n    count += 1\n    embedding_matrix[i] = embedding_vector",
      "execution_count": null,
      "outputs": []
    },
    {
      "cell_type": "code",
      "metadata": {
        "deepnote_to_be_reexecuted": false,
        "execution_millis": 9,
        "execution_start": 1615563829656,
        "source_hash": "2d6442f3",
        "tags": [],
        "colab": {
          "base_uri": "https://localhost:8080/"
        },
        "id": "Mo-grq1J920T",
        "outputId": "b2ab628d-a7f6-4ed3-f967-fa8d7c9704df",
        "cell_id": "00036-3d2df60d-4572-4d0b-83fa-79197ab006a1",
        "deepnote_cell_type": "code"
      },
      "source": "print(\"Percentage of words covered by Glove vectors:\", count/len(tokenizer.word_index)*100)",
      "execution_count": null,
      "outputs": [
        {
          "output_type": "stream",
          "text": "Percentage of words covered by Glove vectors: 71.92398449351087\n",
          "name": "stdout"
        }
      ]
    },
    {
      "cell_type": "markdown",
      "source": "# Defintion of the model (RNN Bi LSTM)",
      "metadata": {
        "id": "k4F8avCZERt7",
        "cell_id": "00037-bc882ea7-f858-4d71-8dc4-7403f5b033a1",
        "deepnote_cell_type": "markdown"
      }
    },
    {
      "cell_type": "markdown",
      "source": "### Hyperparameters",
      "metadata": {
        "id": "q2YzQOsoEYTi",
        "cell_id": "00038-a01b9e0b-3394-4ef4-8e3d-f62952d7f1c8",
        "deepnote_cell_type": "markdown"
      }
    },
    {
      "cell_type": "code",
      "metadata": {
        "deepnote_to_be_reexecuted": false,
        "execution_millis": 3,
        "execution_start": 1615563860089,
        "source_hash": "e8f865db",
        "tags": [],
        "id": "sa2GS30T920U",
        "cell_id": "00039-06ab4f1c-2fb5-484b-aff0-c6aae95d18be",
        "deepnote_cell_type": "code"
      },
      "source": "vocab_size = len(tokenizer.word_index) + 1\nembedding_vector_length = 100\nmax_span_begin = np.amax(y_train.Start_Word)\nmax_span_end = np.amax(y_train.End_Word)\nbatch = 32\n# slice of data to be used as one epoch training on full data is expensive\nslce = 10000",
      "execution_count": 354,
      "outputs": []
    },
    {
      "cell_type": "markdown",
      "source": "### Context input",
      "metadata": {
        "id": "Cr92vjMdEcZE",
        "cell_id": "00040-20e855c2-f2e8-46b0-b869-49d60b4baf26",
        "deepnote_cell_type": "markdown"
      }
    },
    {
      "cell_type": "code",
      "metadata": {
        "deepnote_to_be_reexecuted": false,
        "execution_millis": 587,
        "execution_start": 1615563862709,
        "source_hash": "8c4f44f1",
        "tags": [],
        "id": "CknhPKWZ920U",
        "cell_id": "00041-f002ed7f-8a46-4f8f-955c-b06d5d237a67",
        "deepnote_cell_type": "code"
      },
      "source": "from tensorflow.keras import Sequential, Model, Input\nfrom tensorflow.keras.layers import LSTM, Embedding, Dense, TimeDistributed, Dropout, Bidirectional, MultiHeadAttention, concatenate, Flatten, Activation, dot\n\ncontext_input = Input(shape=(max_length_context, ), dtype='int32', name='context_input')\nx = Embedding(input_dim=vocab_size, output_dim=100, weights=[embedding_matrix], \n              input_length=max_length_context, trainable=False)(context_input)\n\ncontext_LSTM = Bidirectional(LSTM(200, return_sequences=True, dropout=0.2), merge_mode='concat')(x)",
      "execution_count": 355,
      "outputs": []
    },
    {
      "cell_type": "markdown",
      "source": "### Question input",
      "metadata": {
        "id": "EvxJVT-MEf0X",
        "cell_id": "00042-eee40fa6-0160-4263-8b46-6f345515a666",
        "deepnote_cell_type": "markdown"
      }
    },
    {
      "cell_type": "code",
      "metadata": {
        "deepnote_to_be_reexecuted": false,
        "execution_millis": 529,
        "execution_start": 1615563864336,
        "source_hash": "64e9c6a9",
        "tags": [],
        "id": "Wjjax2iz920U",
        "cell_id": "00043-5bdd1b97-545d-4fe9-b3ad-6abd1b346c98",
        "deepnote_cell_type": "code"
      },
      "source": "question_input = Input(shape=(max_length_question, ), dtype='int32', name='ques_input')\nx = Embedding(input_dim=vocab_size, output_dim=100, weights=[embedding_matrix], \n              input_length=max_length_question, trainable=False)(question_input)\n\nquestion_LSTM, forward_h, forward_c, backward_h, backward_c = Bidirectional(LSTM(200, return_sequences=True, return_state=True, dropout=0.2), merge_mode='concat')(x)\n\n# /!\\ We are not sure if add is the right approach or should be concat\nquestion_hidden_states = concatenate([forward_h, backward_h])",
      "execution_count": 356,
      "outputs": []
    },
    {
      "cell_type": "markdown",
      "source": "### Attention layer\n![image.png](data:image/png;base64,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)\n\n![image.png](data:image/png;base64,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)\n\n![image.png](data:image/png;base64,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)",
      "metadata": {
        "id": "XdRmIduPEhhY",
        "cell_id": "00044-77ac529d-169a-4baf-9065-87ea660b76d7",
        "deepnote_cell_type": "markdown"
      }
    },
    {
      "cell_type": "code",
      "metadata": {
        "id": "fFeEykALEsKW",
        "cell_id": "00045-a6e7fa57-2048-43d2-91b3-6923b925bbe6",
        "deepnote_cell_type": "code"
      },
      "source": "#ATTENTION LAYER \nimport tensorflow as tf\nattention_scores = dot([context_LSTM, question_LSTM], axes=2)\nattention_distribution = tf.nn.softmax(attention_scores, axis=2)\n#attention output is also the question vector\nattention_output = dot([attention_distribution, question_LSTM],axes=[2,1])\n\nquestion_to_context = concatenate([context_LSTM, attention_output])\n#We used tanh activation because most of time tanh is quickly converge than sigmoid and performs better accuracy\nattention_vector = Dense(400, use_bias=False, activation='tanh')(question_to_context)",
      "execution_count": 357,
      "outputs": []
    },
    {
      "cell_type": "markdown",
      "source": "### Output layer (Start and End word predictions)",
      "metadata": {
        "id": "Rfyd356ZEtI-",
        "cell_id": "00046-0bd85069-d65a-4f82-98e1-6a443ec1dcd9",
        "deepnote_cell_type": "markdown"
      }
    },
    {
      "cell_type": "code",
      "metadata": {
        "deepnote_to_be_reexecuted": false,
        "execution_millis": 582,
        "execution_start": 1615563868884,
        "source_hash": "15ccfa20",
        "tags": [],
        "id": "jCbEt-vG920U",
        "cell_id": "00047-60b01226-5390-4c71-853d-2e7b965145ef",
        "deepnote_cell_type": "code"
      },
      "source": "#START WORD PREDICTION\nstart = Dense(400)(question_hidden_states)\n#We use expand_dims from tensorflow to use the start vectors as a matrix to multiply the start vector with the attention vector\nstart_matrix = tf.expand_dims(start, 2)\n\n#Squeeze removes dimensions of size 1 from the shape of a tensor we added before \nstart_word = tf.squeeze(tf.matmul(attention_vector, start_matrix), 2)\nstart_word = tf.nn.softmax(start_word, axis=1,name = \"Start_Word_Prediction\")\n\n#END WORD PREDICTION\nend = Dense(400)(question_hidden_states)\nend_matrix = tf.expand_dims(end, 2)\n\nend_word = tf.squeeze(tf.matmul(attention_vector, end_matrix), 2)\nend_word = tf.nn.softmax(end_word, axis=1,name = \"End_Word_Prediction\")",
      "execution_count": 359,
      "outputs": []
    },
    {
      "cell_type": "markdown",
      "source": "### We define the model and the metrics",
      "metadata": {
        "id": "sJ-pKaTUdbxm",
        "cell_id": "00048-15782834-6ccb-4abb-9826-23bdad80940b",
        "deepnote_cell_type": "markdown"
      }
    },
    {
      "cell_type": "code",
      "metadata": {
        "id": "-x8Ix3dCtzzs",
        "cell_id": "00049-94c1323d-d368-486b-9f0d-db3ddd205d7f",
        "deepnote_cell_type": "code"
      },
      "source": "#ATTEMPT FAIL\ndef compute_loss(start, end):\n    J = tf.math.reduce_sum(tf.cast(start, tf.float64)) - tf.math.log(tf.cast(start, tf.float64)) + tf.math.reduce_sum(tf.cast(end, tf.float64)) - tf.math.log(tf.cast(end, tf.float64))\n    return J",
      "execution_count": 360,
      "outputs": []
    },
    {
      "cell_type": "code",
      "metadata": {
        "colab": {
          "base_uri": "https://localhost:8080/"
        },
        "id": "SRAkl_C-dWAN",
        "outputId": "62ed391b-de09-45ed-ea7e-93641b757ca5",
        "cell_id": "00050-09140cd7-e0d2-443f-9fb6-53f6c6615a7e",
        "deepnote_cell_type": "code"
      },
      "source": "#DEFINE THE MODEL\nmodel = Model(inputs=[context_input, question_input], outputs=[start_word, end_word])\n\nmodel.compile(optimizer='Adam', loss=\"sparse_categorical_crossentropy\", metrics=['acc'])\nmodel.summary()",
      "execution_count": 361,
      "outputs": [
        {
          "output_type": "stream",
          "text": "Model: \"model_92\"\n__________________________________________________________________________________________________\nLayer (type)                    Output Shape         Param #     Connected to                     \n==================================================================================================\ncontext_input (InputLayer)      [(None, 700)]        0                                            \n__________________________________________________________________________________________________\nques_input (InputLayer)         [(None, 50)]         0                                            \n__________________________________________________________________________________________________\nembedding_14 (Embedding)        (None, 700, 100)     9492900     context_input[0][0]              \n__________________________________________________________________________________________________\nembedding_15 (Embedding)        (None, 50, 100)      9492900     ques_input[0][0]                 \n__________________________________________________________________________________________________\nbidirectional_14 (Bidirectional (None, 700, 400)     481600      embedding_14[0][0]               \n__________________________________________________________________________________________________\nbidirectional_15 (Bidirectional [(None, 50, 400), (N 481600      embedding_15[0][0]               \n__________________________________________________________________________________________________\ndot_17 (Dot)                    (None, 700, 50)      0           bidirectional_14[0][0]           \n                                                                 bidirectional_15[0][0]           \n__________________________________________________________________________________________________\ntf.nn.softmax_26 (TFOpLambda)   (None, 700, 50)      0           dot_17[0][0]                     \n__________________________________________________________________________________________________\ndot_18 (Dot)                    (None, 700, 400)     0           tf.nn.softmax_26[0][0]           \n                                                                 bidirectional_15[0][0]           \n__________________________________________________________________________________________________\nconcatenate_15 (Concatenate)    (None, 400)          0           bidirectional_15[0][1]           \n                                                                 bidirectional_15[0][3]           \n__________________________________________________________________________________________________\nconcatenate_16 (Concatenate)    (None, 700, 800)     0           bidirectional_14[0][0]           \n                                                                 dot_18[0][0]                     \n__________________________________________________________________________________________________\ndense_30 (Dense)                (None, 400)          160400      concatenate_15[0][0]             \n__________________________________________________________________________________________________\ndense_31 (Dense)                (None, 400)          160400      concatenate_15[0][0]             \n__________________________________________________________________________________________________\ndense_27 (Dense)                (None, 700, 400)     320000      concatenate_16[0][0]             \n__________________________________________________________________________________________________\ntf.expand_dims_20 (TFOpLambda)  (None, 400, 1)       0           dense_30[0][0]                   \n__________________________________________________________________________________________________\ntf.expand_dims_21 (TFOpLambda)  (None, 400, 1)       0           dense_31[0][0]                   \n__________________________________________________________________________________________________\ntf.linalg.matmul_20 (TFOpLambda (None, 700, 1)       0           dense_27[0][0]                   \n                                                                 tf.expand_dims_20[0][0]          \n__________________________________________________________________________________________________\ntf.linalg.matmul_21 (TFOpLambda (None, 700, 1)       0           dense_27[0][0]                   \n                                                                 tf.expand_dims_21[0][0]          \n__________________________________________________________________________________________________\ntf.compat.v1.squeeze_20 (TFOpLa (None, 700)          0           tf.linalg.matmul_20[0][0]        \n__________________________________________________________________________________________________\ntf.compat.v1.squeeze_21 (TFOpLa (None, 700)          0           tf.linalg.matmul_21[0][0]        \n__________________________________________________________________________________________________\ntf.nn.softmax_29 (TFOpLambda)   (None, 700)          0           tf.compat.v1.squeeze_20[0][0]    \n__________________________________________________________________________________________________\ntf.nn.softmax_30 (TFOpLambda)   (None, 700)          0           tf.compat.v1.squeeze_21[0][0]    \n==================================================================================================\nTotal params: 20,589,800\nTrainable params: 1,604,000\nNon-trainable params: 18,985,800\n__________________________________________________________________________________________________\n",
          "name": "stdout"
        }
      ]
    },
    {
      "cell_type": "markdown",
      "source": "### Fitting of the model",
      "metadata": {
        "id": "gm1xnEGqE1GB",
        "cell_id": "00051-0e892752-5334-4039-96b5-3c4715a39452",
        "deepnote_cell_type": "markdown"
      }
    },
    {
      "cell_type": "code",
      "metadata": {
        "deepnote_to_be_reexecuted": true,
        "source_hash": "4bdef66f",
        "tags": [],
        "colab": {
          "base_uri": "https://localhost:8080/"
        },
        "id": "iejwppE9920U",
        "outputId": "3b2af431-c230-4af5-df6d-a9aba6e542ac",
        "cell_id": "00052-c055b410-c355-413e-99ad-638204b9ddfb",
        "deepnote_cell_type": "code"
      },
      "source": "model_history = model.fit([context_padded, question_padded], [y_train.Start_Word, y_train.End_Word], verbose=2, batch_size=batch, epochs=20)",
      "execution_count": 362,
      "outputs": [
        {
          "output_type": "stream",
          "text": "Epoch 1/20\n2564/2564 - 241s - loss: 6.3986 - tf.nn.softmax_29_loss: 3.3135 - tf.nn.softmax_30_loss: 3.0851 - tf.nn.softmax_29_acc: 0.1998 - tf.nn.softmax_30_acc: 0.2165\nEpoch 2/20\n2564/2564 - 236s - loss: 5.3245 - tf.nn.softmax_29_loss: 2.7753 - tf.nn.softmax_30_loss: 2.5492 - tf.nn.softmax_29_acc: 0.2919 - tf.nn.softmax_30_acc: 0.3112\nEpoch 3/20\n2564/2564 - 237s - loss: 4.8331 - tf.nn.softmax_29_loss: 2.5187 - tf.nn.softmax_30_loss: 2.3145 - tf.nn.softmax_29_acc: 0.3447 - tf.nn.softmax_30_acc: 0.3645\nEpoch 4/20\n2564/2564 - 237s - loss: 4.4192 - tf.nn.softmax_29_loss: 2.3066 - tf.nn.softmax_30_loss: 2.1127 - tf.nn.softmax_29_acc: 0.3862 - tf.nn.softmax_30_acc: 0.4071\nEpoch 5/20\n2564/2564 - 236s - loss: 4.1075 - tf.nn.softmax_29_loss: 2.1445 - tf.nn.softmax_30_loss: 1.9629 - tf.nn.softmax_29_acc: 0.4193 - tf.nn.softmax_30_acc: 0.4398\nEpoch 6/20\n2564/2564 - 236s - loss: 3.8292 - tf.nn.softmax_29_loss: 2.0017 - tf.nn.softmax_30_loss: 1.8275 - tf.nn.softmax_29_acc: 0.4519 - tf.nn.softmax_30_acc: 0.4719\nEpoch 7/20\n2564/2564 - 236s - loss: 3.5762 - tf.nn.softmax_29_loss: 1.8750 - tf.nn.softmax_30_loss: 1.7012 - tf.nn.softmax_29_acc: 0.4791 - tf.nn.softmax_30_acc: 0.5036\nEpoch 8/20\n2564/2564 - 237s - loss: 3.3402 - tf.nn.softmax_29_loss: 1.7540 - tf.nn.softmax_30_loss: 1.5863 - tf.nn.softmax_29_acc: 0.5072 - tf.nn.softmax_30_acc: 0.5326\nEpoch 9/20\n2564/2564 - 239s - loss: 3.1493 - tf.nn.softmax_29_loss: 1.6532 - tf.nn.softmax_30_loss: 1.4961 - tf.nn.softmax_29_acc: 0.5308 - tf.nn.softmax_30_acc: 0.5548\nEpoch 10/20\n2564/2564 - 241s - loss: 2.9696 - tf.nn.softmax_29_loss: 1.5632 - tf.nn.softmax_30_loss: 1.4064 - tf.nn.softmax_29_acc: 0.5503 - tf.nn.softmax_30_acc: 0.5770\nEpoch 11/20\n2564/2564 - 242s - loss: 2.8259 - tf.nn.softmax_29_loss: 1.4870 - tf.nn.softmax_30_loss: 1.3389 - tf.nn.softmax_29_acc: 0.5697 - tf.nn.softmax_30_acc: 0.5951\nEpoch 12/20\n2564/2564 - 242s - loss: 2.6817 - tf.nn.softmax_29_loss: 1.4133 - tf.nn.softmax_30_loss: 1.2684 - tf.nn.softmax_29_acc: 0.5861 - tf.nn.softmax_30_acc: 0.6129\nEpoch 13/20\n2564/2564 - 242s - loss: 2.5705 - tf.nn.softmax_29_loss: 1.3540 - tf.nn.softmax_30_loss: 1.2165 - tf.nn.softmax_29_acc: 0.6012 - tf.nn.softmax_30_acc: 0.6264\nEpoch 14/20\n2564/2564 - 242s - loss: 2.4669 - tf.nn.softmax_29_loss: 1.3032 - tf.nn.softmax_30_loss: 1.1637 - tf.nn.softmax_29_acc: 0.6139 - tf.nn.softmax_30_acc: 0.6393\nEpoch 15/20\n2564/2564 - 242s - loss: 2.3665 - tf.nn.softmax_29_loss: 1.2487 - tf.nn.softmax_30_loss: 1.1178 - tf.nn.softmax_29_acc: 0.6273 - tf.nn.softmax_30_acc: 0.6528\nEpoch 16/20\n2564/2564 - 242s - loss: 2.2938 - tf.nn.softmax_29_loss: 1.2082 - tf.nn.softmax_30_loss: 1.0856 - tf.nn.softmax_29_acc: 0.6365 - tf.nn.softmax_30_acc: 0.6611\nEpoch 17/20\n2564/2564 - 242s - loss: 2.2191 - tf.nn.softmax_29_loss: 1.1706 - tf.nn.softmax_30_loss: 1.0485 - tf.nn.softmax_29_acc: 0.6482 - tf.nn.softmax_30_acc: 0.6712\nEpoch 18/20\n2564/2564 - 242s - loss: 2.1597 - tf.nn.softmax_29_loss: 1.1402 - tf.nn.softmax_30_loss: 1.0195 - tf.nn.softmax_29_acc: 0.6534 - tf.nn.softmax_30_acc: 0.6788\nEpoch 19/20\n2564/2564 - 240s - loss: 2.0848 - tf.nn.softmax_29_loss: 1.0973 - tf.nn.softmax_30_loss: 0.9874 - tf.nn.softmax_29_acc: 0.6645 - tf.nn.softmax_30_acc: 0.6910\nEpoch 20/20\n2564/2564 - 238s - loss: 2.0305 - tf.nn.softmax_29_loss: 1.0683 - tf.nn.softmax_30_loss: 0.9622 - tf.nn.softmax_29_acc: 0.6721 - tf.nn.softmax_30_acc: 0.6959\n",
          "name": "stdout"
        }
      ]
    },
    {
      "cell_type": "markdown",
      "source": "### Predictions",
      "metadata": {
        "id": "yNAwpT2eE9sZ",
        "cell_id": "00053-0a6e0ee6-de4a-4438-8a80-9c7e58d609d9",
        "deepnote_cell_type": "markdown"
      }
    },
    {
      "cell_type": "code",
      "metadata": {
        "tags": [],
        "id": "6wH_0GJf920V",
        "cell_id": "00054-1ffb3a57-a714-4b55-84d4-5efcbd7c173b",
        "deepnote_cell_type": "code"
      },
      "source": "y_pred = model.predict([test_context_padded, test_question_padded])\n\ny_pred_start= y_pred[0].argmax(axis=-1)\ny_pred_end= y_pred[1].argmax(axis=-1)\n\ny_pred_start = pd.DataFrame(y_pred_start, columns=[\"Start\"])\ny_pred_end = pd.DataFrame(y_pred_end, columns=[\"End\"])\npredictions = pd.DataFrame(y_pred_start)\npredictions[\"End\"] = y_pred_end",
      "execution_count": 367,
      "outputs": []
    },
    {
      "cell_type": "code",
      "metadata": {
        "colab": {
          "base_uri": "https://localhost:8080/",
          "height": 424
        },
        "id": "tNUNMDi-9WfE",
        "outputId": "fe3941f3-4810-4506-98c9-aeb7f276db45",
        "cell_id": "00055-915bd88a-f4ba-469d-ab3f-6fd4dacf0265",
        "deepnote_cell_type": "code"
      },
      "source": "predictions",
      "execution_count": 368,
      "outputs": [
        {
          "output_type": "execute_result",
          "data": {
            "text/html": "<div>\n<style scoped>\n    .dataframe tbody tr th:only-of-type {\n        vertical-align: middle;\n    }\n\n    .dataframe tbody tr th {\n        vertical-align: top;\n    }\n\n    .dataframe thead th {\n        text-align: right;\n    }\n</style>\n<table border=\"1\" class=\"dataframe\">\n  <thead>\n    <tr style=\"text-align: right;\">\n      <th></th>\n      <th>Start</th>\n      <th>End</th>\n    </tr>\n  </thead>\n  <tbody>\n    <tr>\n      <th>0</th>\n      <td>26</td>\n      <td>26</td>\n    </tr>\n    <tr>\n      <th>1</th>\n      <td>14</td>\n      <td>17</td>\n    </tr>\n    <tr>\n      <th>2</th>\n      <td>14</td>\n      <td>17</td>\n    </tr>\n    <tr>\n      <th>3</th>\n      <td>40</td>\n      <td>26</td>\n    </tr>\n    <tr>\n      <th>4</th>\n      <td>54</td>\n      <td>48</td>\n    </tr>\n    <tr>\n      <th>...</th>\n      <td>...</td>\n      <td>...</td>\n    </tr>\n    <tr>\n      <th>9717</th>\n      <td>114</td>\n      <td>2</td>\n    </tr>\n    <tr>\n      <th>9718</th>\n      <td>114</td>\n      <td>2</td>\n    </tr>\n    <tr>\n      <th>9719</th>\n      <td>114</td>\n      <td>2</td>\n    </tr>\n    <tr>\n      <th>9720</th>\n      <td>114</td>\n      <td>114</td>\n    </tr>\n    <tr>\n      <th>9721</th>\n      <td>114</td>\n      <td>16</td>\n    </tr>\n  </tbody>\n</table>\n<p>9722 rows × 2 columns</p>\n</div>",
            "text/plain": "      Start  End\n0        26   26\n1        14   17\n2        14   17\n3        40   26\n4        54   48\n...     ...  ...\n9717    114    2\n9718    114    2\n9719    114    2\n9720    114  114\n9721    114   16\n\n[9722 rows x 2 columns]"
          },
          "metadata": {
            "tags": []
          },
          "execution_count": 368
        }
      ]
    },
    {
      "cell_type": "markdown",
      "source": "### Evaluation of the model on test set",
      "metadata": {
        "id": "aGl3c-wGq7Rw",
        "cell_id": "00056-28eafef9-4e1a-47d5-88cc-de90cb83c426",
        "deepnote_cell_type": "markdown"
      }
    },
    {
      "cell_type": "code",
      "metadata": {
        "colab": {
          "base_uri": "https://localhost:8080/",
          "height": 238
        },
        "id": "tRUJTtjPq-J-",
        "outputId": "e6e0875d-f611-434a-c2f8-f903cf2748a9",
        "cell_id": "00057-29be9f22-7b76-49bf-83a7-def3415a5511",
        "deepnote_cell_type": "code"
      },
      "source": "from sklearn.metrics import f1_score, precision_score, recall_score, confusion_matrix\n\nd = {'Start_Word': [precision_score(y_test['Start_Word'], predictions['Start'], average=\"macro\"), recall_score(y_test['Start_Word'], predictions['Start'], average=\"macro\"), f1_score(y_test['Start_Word'], predictions['Start'], average=\"macro\")],\n                    'End_Word': [precision_score(y_test['End_Word'], predictions['End'], average=\"macro\"), recall_score(y_test['End_Word'], predictions['End'], average=\"macro\"), f1_score(y_test['End_Word'], predictions['End'], average=\"macro\")]}\nscores = pd.DataFrame(data=d)\nscores.insert (0, \"Raw\", ['Precision', 'Recall', 'F1'])\nscores.set_index('Raw')\nscores",
      "execution_count": 369,
      "outputs": [
        {
          "output_type": "stream",
          "text": "/usr/local/lib/python3.7/dist-packages/sklearn/metrics/_classification.py:1272: UndefinedMetricWarning: Precision is ill-defined and being set to 0.0 in labels with no predicted samples. Use `zero_division` parameter to control this behavior.\n  _warn_prf(average, modifier, msg_start, len(result))\n/usr/local/lib/python3.7/dist-packages/sklearn/metrics/_classification.py:1272: UndefinedMetricWarning: Recall is ill-defined and being set to 0.0 in labels with no true samples. Use `zero_division` parameter to control this behavior.\n  _warn_prf(average, modifier, msg_start, len(result))\n",
          "name": "stderr"
        },
        {
          "output_type": "execute_result",
          "data": {
            "text/html": "<div>\n<style scoped>\n    .dataframe tbody tr th:only-of-type {\n        vertical-align: middle;\n    }\n\n    .dataframe tbody tr th {\n        vertical-align: top;\n    }\n\n    .dataframe thead th {\n        text-align: right;\n    }\n</style>\n<table border=\"1\" class=\"dataframe\">\n  <thead>\n    <tr style=\"text-align: right;\">\n      <th></th>\n      <th>Raw</th>\n      <th>Start_Word</th>\n      <th>End_Word</th>\n    </tr>\n  </thead>\n  <tbody>\n    <tr>\n      <th>0</th>\n      <td>Precision</td>\n      <td>0.194466</td>\n      <td>0.205515</td>\n    </tr>\n    <tr>\n      <th>1</th>\n      <td>Recall</td>\n      <td>0.194340</td>\n      <td>0.218492</td>\n    </tr>\n    <tr>\n      <th>2</th>\n      <td>F1</td>\n      <td>0.183511</td>\n      <td>0.201898</td>\n    </tr>\n  </tbody>\n</table>\n</div>",
            "text/plain": "         Raw  Start_Word  End_Word\n0  Precision    0.194466  0.205515\n1     Recall    0.194340  0.218492\n2         F1    0.183511  0.201898"
          },
          "metadata": {
            "tags": []
          },
          "execution_count": 369
        }
      ]
    },
    {
      "cell_type": "markdown",
      "source": "# Evalutation of the model",
      "metadata": {
        "id": "BEArHOtXbkc7",
        "cell_id": "00058-14e9c1b3-1c14-4f63-ae79-29b5db9bf464",
        "deepnote_cell_type": "markdown"
      }
    },
    {
      "cell_type": "code",
      "metadata": {
        "deepnote_to_be_reexecuted": false,
        "execution_millis": 47,
        "execution_start": 1615564208246,
        "source_hash": "819baf85",
        "tags": [],
        "colab": {
          "base_uri": "https://localhost:8080/"
        },
        "id": "yy1g9X43920V",
        "outputId": "a990e7df-676b-468b-abca-9e6bc2fffd9c",
        "cell_id": "00059-89ea5269-02ee-4e88-b432-2408b8bc4833",
        "deepnote_cell_type": "code"
      },
      "source": "def index_to_word(context_seq, context, question, answer, word_start, word_end):\n    sentence = []\n    sentence.append(context_seq[word_start:word_end+1])\n    text = tokenizer.sequences_to_texts(sentence)\n    print(\"Context : \", context, \"\\nQuestion:\", question, \"\\nActual Answer:\", answer, \"\\nPredicted Answer:\", text[0], \"\\n\\n\\n\")\n\nfor i in range(5,25):\n    index_to_word(X_test.Context_Sequences[i], test.Context[i], test.Question[i], test['Answer'][i], predictions[\"Start\"][i], predictions[\"End\"][i])",
      "execution_count": 372,
      "outputs": [
        {
          "output_type": "stream",
          "text": "Context :  The Normans (Norman: Nourmands; French: Normands; Latin: Normanni) were the people who in the 10th and 11th centuries gave their name to Normandy, a region in France. They were descended from Norse (\"Norman\" comes from \"Norseman\") raiders and pirates from Denmark, Iceland and Norway who, under their leader Rollo, agreed to swear fealty to King Charles III of West Francia. Through generations of assimilation and mixing with the native Frankish and Roman-Gaulish populations, their descendants would gradually merge with the Carolingian-based cultures of West Francia. The distinct cultural and ethnic identity of the Normans emerged initially in the first half of the 10th century, and it continued to evolve over the succeeding centuries. \nQuestion: What century did the Normans first gain their separate identity? \nActual Answer: 10th century \nPredicted Answer: 10th and 11th centuries \n\n\n\nContext :  The Normans (Norman: Nourmands; French: Normands; Latin: Normanni) were the people who in the 10th and 11th centuries gave their name to Normandy, a region in France. They were descended from Norse (\"Norman\" comes from \"Norseman\") raiders and pirates from Denmark, Iceland and Norway who, under their leader Rollo, agreed to swear fealty to King Charles III of West Francia. Through generations of assimilation and mixing with the native Frankish and Roman-Gaulish populations, their descendants would gradually merge with the Carolingian-based cultures of West Francia. The distinct cultural and ethnic identity of the Normans emerged initially in the first half of the 10th century, and it continued to evolve over the succeeding centuries. \nQuestion: What century did the Normans first gain their separate identity? \nActual Answer: the first half of the 10th century \nPredicted Answer: 10th and 11th centuries \n\n\n\nContext :  The Normans (Norman: Nourmands; French: Normands; Latin: Normanni) were the people who in the 10th and 11th centuries gave their name to Normandy, a region in France. They were descended from Norse (\"Norman\" comes from \"Norseman\") raiders and pirates from Denmark, Iceland and Norway who, under their leader Rollo, agreed to swear fealty to King Charles III of West Francia. Through generations of assimilation and mixing with the native Frankish and Roman-Gaulish populations, their descendants would gradually merge with the Carolingian-based cultures of West Francia. The distinct cultural and ethnic identity of the Normans emerged initially in the first half of the 10th century, and it continued to evolve over the succeeding centuries. \nQuestion: What century did the Normans first gain their separate identity? \nActual Answer: 10th \nPredicted Answer: 10th and 11th centuries \n\n\n\nContext :  The Norman dynasty had a major political, cultural and military impact on medieval Europe and even the Near East. The Normans were famed for their martial spirit and eventually for their Christian piety, becoming exponents of the Catholic orthodoxy into which they assimilated. They adopted the Gallo-Romance language of the Frankish land they settled, their dialect becoming known as Norman, Normaund or Norman French, an important literary language. The Duchy of Normandy, which they formed by treaty with the French crown, was a great fief of medieval France, and under Richard I of Normandy was forged into a cohesive and formidable principality in feudal tenure. The Normans are noted both for their culture, such as their unique Romanesque architecture and musical traditions, and for their significant military accomplishments and innovations. Norman adventurers founded the Kingdom of Sicily under Roger II after conquering southern Italy on the Saracens and Byzantines, and an expedition on behalf of their duke, William the Conqueror, led to the Norman conquest of England at the Battle of Hastings in 1066. Norman cultural and military influence spread from these new European centres to the Crusader states of the Near East, where their prince Bohemond I founded the Principality of Antioch in the Levant, to Scotland and Wales in Great Britain, to Ireland, and to the coasts of north Africa and the Canary Islands. \nQuestion: Who was the duke in the battle of Hastings? \nActual Answer: William the Conqueror \nPredicted Answer: richard i \n\n\n\nContext :  The Norman dynasty had a major political, cultural and military impact on medieval Europe and even the Near East. The Normans were famed for their martial spirit and eventually for their Christian piety, becoming exponents of the Catholic orthodoxy into which they assimilated. They adopted the Gallo-Romance language of the Frankish land they settled, their dialect becoming known as Norman, Normaund or Norman French, an important literary language. The Duchy of Normandy, which they formed by treaty with the French crown, was a great fief of medieval France, and under Richard I of Normandy was forged into a cohesive and formidable principality in feudal tenure. The Normans are noted both for their culture, such as their unique Romanesque architecture and musical traditions, and for their significant military accomplishments and innovations. Norman adventurers founded the Kingdom of Sicily under Roger II after conquering southern Italy on the Saracens and Byzantines, and an expedition on behalf of their duke, William the Conqueror, led to the Norman conquest of England at the Battle of Hastings in 1066. Norman cultural and military influence spread from these new European centres to the Crusader states of the Near East, where their prince Bohemond I founded the Principality of Antioch in the Levant, to Scotland and Wales in Great Britain, to Ireland, and to the coasts of north Africa and the Canary Islands. \nQuestion: Who ruled the duchy of Normandy \nActual Answer: Richard I \nPredicted Answer: prince bohemond i \n\n\n\nContext :  The Norman dynasty had a major political, cultural and military impact on medieval Europe and even the Near East. The Normans were famed for their martial spirit and eventually for their Christian piety, becoming exponents of the Catholic orthodoxy into which they assimilated. They adopted the Gallo-Romance language of the Frankish land they settled, their dialect becoming known as Norman, Normaund or Norman French, an important literary language. The Duchy of Normandy, which they formed by treaty with the French crown, was a great fief of medieval France, and under Richard I of Normandy was forged into a cohesive and formidable principality in feudal tenure. The Normans are noted both for their culture, such as their unique Romanesque architecture and musical traditions, and for their significant military accomplishments and innovations. Norman adventurers founded the Kingdom of Sicily under Roger II after conquering southern Italy on the Saracens and Byzantines, and an expedition on behalf of their duke, William the Conqueror, led to the Norman conquest of England at the Battle of Hastings in 1066. Norman cultural and military influence spread from these new European centres to the Crusader states of the Near East, where their prince Bohemond I founded the Principality of Antioch in the Levant, to Scotland and Wales in Great Britain, to Ireland, and to the coasts of north Africa and the Canary Islands. \nQuestion: What religion were the Normans \nActual Answer: Catholic \nPredicted Answer:  \n\n\n\nContext :  The Norman dynasty had a major political, cultural and military impact on medieval Europe and even the Near East. The Normans were famed for their martial spirit and eventually for their Christian piety, becoming exponents of the Catholic orthodoxy into which they assimilated. They adopted the Gallo-Romance language of the Frankish land they settled, their dialect becoming known as Norman, Normaund or Norman French, an important literary language. The Duchy of Normandy, which they formed by treaty with the French crown, was a great fief of medieval France, and under Richard I of Normandy was forged into a cohesive and formidable principality in feudal tenure. The Normans are noted both for their culture, such as their unique Romanesque architecture and musical traditions, and for their significant military accomplishments and innovations. Norman adventurers founded the Kingdom of Sicily under Roger II after conquering southern Italy on the Saracens and Byzantines, and an expedition on behalf of their duke, William the Conqueror, led to the Norman conquest of England at the Battle of Hastings in 1066. Norman cultural and military influence spread from these new European centres to the Crusader states of the Near East, where their prince Bohemond I founded the Principality of Antioch in the Levant, to Scotland and Wales in Great Britain, to Ireland, and to the coasts of north Africa and the Canary Islands. \nQuestion: What religion were the Normans \nActual Answer: Catholic orthodoxy \nPredicted Answer:  \n\n\n\nContext :  The English name \"Normans\" comes from the French words Normans/Normanz, plural of Normant, modern French normand, which is itself borrowed from Old Low Franconian Nortmann \"Northman\" or directly from Old Norse Norðmaðr, Latinized variously as Nortmannus, Normannus, or Nordmannus (recorded in Medieval Latin, 9th century) to mean \"Norseman, Viking\". \nQuestion: When was the Latin version of the word Norman first recorded? \nActual Answer: 9th century \nPredicted Answer: 9th century \n\n\n\nContext :  In the course of the 10th century, the initially destructive incursions of Norse war bands into the rivers of France evolved into more permanent encampments that included local women and personal property. The Duchy of Normandy, which began in 911 as a fiefdom, was established by the treaty of Saint-Clair-sur-Epte between King Charles III of West Francia and the famed Viking ruler Rollo, and was situated in the former Frankish kingdom of Neustria. The treaty offered Rollo and his men the French lands between the river Epte and the Atlantic coast in exchange for their protection against further Viking incursions. The area corresponded to the northern part of present-day Upper Normandy down to the river Seine, but the Duchy would eventually extend west beyond the Seine. The territory was roughly equivalent to the old province of Rouen, and reproduced the Roman administrative structure of Gallia Lugdunensis II (part of the former Gallia Lugdunensis). \nQuestion: When was the Duchy of Normandy founded? \nActual Answer: 911 \nPredicted Answer: 911 as a fiefdom was established by the treaty of saint clair sur epte \n\n\n\nContext :  In the course of the 10th century, the initially destructive incursions of Norse war bands into the rivers of France evolved into more permanent encampments that included local women and personal property. The Duchy of Normandy, which began in 911 as a fiefdom, was established by the treaty of Saint-Clair-sur-Epte between King Charles III of West Francia and the famed Viking ruler Rollo, and was situated in the former Frankish kingdom of Neustria. The treaty offered Rollo and his men the French lands between the river Epte and the Atlantic coast in exchange for their protection against further Viking incursions. The area corresponded to the northern part of present-day Upper Normandy down to the river Seine, but the Duchy would eventually extend west beyond the Seine. The territory was roughly equivalent to the old province of Rouen, and reproduced the Roman administrative structure of Gallia Lugdunensis II (part of the former Gallia Lugdunensis). \nQuestion: Who did Rollo sign the treaty of Saint-Clair-sur-Epte with? \nActual Answer: King Charles III \nPredicted Answer: local women and personal property the duchy of normandy which began in 911 as a fiefdom was established by the treaty of saint clair sur epte between king charles iii of west francia and the famed viking ruler rollo and was situated in the former frankish kingdom of neustria the treaty offered rollo and his men \n\n\n\nContext :  In the course of the 10th century, the initially destructive incursions of Norse war bands into the rivers of France evolved into more permanent encampments that included local women and personal property. The Duchy of Normandy, which began in 911 as a fiefdom, was established by the treaty of Saint-Clair-sur-Epte between King Charles III of West Francia and the famed Viking ruler Rollo, and was situated in the former Frankish kingdom of Neustria. The treaty offered Rollo and his men the French lands between the river Epte and the Atlantic coast in exchange for their protection against further Viking incursions. The area corresponded to the northern part of present-day Upper Normandy down to the river Seine, but the Duchy would eventually extend west beyond the Seine. The territory was roughly equivalent to the old province of Rouen, and reproduced the Roman administrative structure of Gallia Lugdunensis II (part of the former Gallia Lugdunensis). \nQuestion: What river originally bounded the Duchy \nActual Answer: Seine \nPredicted Answer: river seine \n\n\n\nContext :  In the course of the 10th century, the initially destructive incursions of Norse war bands into the rivers of France evolved into more permanent encampments that included local women and personal property. The Duchy of Normandy, which began in 911 as a fiefdom, was established by the treaty of Saint-Clair-sur-Epte between King Charles III of West Francia and the famed Viking ruler Rollo, and was situated in the former Frankish kingdom of Neustria. The treaty offered Rollo and his men the French lands between the river Epte and the Atlantic coast in exchange for their protection against further Viking incursions. The area corresponded to the northern part of present-day Upper Normandy down to the river Seine, but the Duchy would eventually extend west beyond the Seine. The territory was roughly equivalent to the old province of Rouen, and reproduced the Roman administrative structure of Gallia Lugdunensis II (part of the former Gallia Lugdunensis). \nQuestion: What river originally bounded the Duchy \nActual Answer: Epte \nPredicted Answer: river seine \n\n\n\nContext :  The descendants of Rollo's Vikings and their Frankish wives would replace the Norse religion and Old Norse language with Catholicism (Christianity) and the Gallo-Romance language of the local people, blending their maternal Frankish heritage with Old Norse traditions and customs to synthesize a unique \"Norman\" culture in the north of France. The Norman language was forged by the adoption of the indigenous langue d'oïl branch of Romance by a Norse-speaking ruling class, and it developed into the regional language that survives today. \nQuestion: What was the Norman religion? \nActual Answer: Catholicism \nPredicted Answer: christianity \n\n\n\nContext :  The descendants of Rollo's Vikings and their Frankish wives would replace the Norse religion and Old Norse language with Catholicism (Christianity) and the Gallo-Romance language of the local people, blending their maternal Frankish heritage with Old Norse traditions and customs to synthesize a unique \"Norman\" culture in the north of France. The Norman language was forged by the adoption of the indigenous langue d'oïl branch of Romance by a Norse-speaking ruling class, and it developed into the regional language that survives today. \nQuestion: What part of France were the Normans located? \nActual Answer: north \nPredicted Answer: north of france \n\n\n\nContext :  The descendants of Rollo's Vikings and their Frankish wives would replace the Norse religion and Old Norse language with Catholicism (Christianity) and the Gallo-Romance language of the local people, blending their maternal Frankish heritage with Old Norse traditions and customs to synthesize a unique \"Norman\" culture in the north of France. The Norman language was forged by the adoption of the indigenous langue d'oïl branch of Romance by a Norse-speaking ruling class, and it developed into the regional language that survives today. \nQuestion: What part of France were the Normans located? \nActual Answer: the north \nPredicted Answer: north of france \n\n\n\nContext :  The Normans thereafter adopted the growing feudal doctrines of the rest of France, and worked them into a functional hierarchical system in both Normandy and in England. The new Norman rulers were culturally and ethnically distinct from the old French aristocracy, most of whom traced their lineage to Franks of the Carolingian dynasty. Most Norman knights remained poor and land-hungry, and by 1066 Normandy had been exporting fighting horsemen for more than a generation. Many Normans of Italy, France and England eventually served as avid Crusaders under the Italo-Norman prince Bohemund I and the Anglo-Norman king Richard the Lion-Heart. \nQuestion: What was one of the Norman's major exports? \nActual Answer: fighting horsemen \nPredicted Answer: 1066 normandy \n\n\n\nContext :  Soon after the Normans began to enter Italy, they entered the Byzantine Empire and then Armenia, fighting against the Pechenegs, the Bulgars, and especially the Seljuk Turks. Norman mercenaries were first encouraged to come to the south by the Lombards to act against the Byzantines, but they soon fought in Byzantine service in Sicily. They were prominent alongside Varangian and Lombard contingents in the Sicilian campaign of George Maniaces in 1038–40. There is debate whether the Normans in Greek service actually were from Norman Italy, and it now seems likely only a few came from there. It is also unknown how many of the \"Franks\", as the Byzantines called them, were Normans and not other Frenchmen. \nQuestion: Who was the Normans' main enemy in Italy, the Byzantine Empire and Armenia? \nActual Answer: Seljuk Turks \nPredicted Answer:  \n\n\n\nContext :  Soon after the Normans began to enter Italy, they entered the Byzantine Empire and then Armenia, fighting against the Pechenegs, the Bulgars, and especially the Seljuk Turks. Norman mercenaries were first encouraged to come to the south by the Lombards to act against the Byzantines, but they soon fought in Byzantine service in Sicily. They were prominent alongside Varangian and Lombard contingents in the Sicilian campaign of George Maniaces in 1038–40. There is debate whether the Normans in Greek service actually were from Norman Italy, and it now seems likely only a few came from there. It is also unknown how many of the \"Franks\", as the Byzantines called them, were Normans and not other Frenchmen. \nQuestion: Who was the Normans' main enemy in Italy, the Byzantine Empire and Armenia? \nActual Answer: the Pechenegs, the Bulgars, and especially the Seljuk Turks \nPredicted Answer:  \n\n\n\nContext :  Soon after the Normans began to enter Italy, they entered the Byzantine Empire and then Armenia, fighting against the Pechenegs, the Bulgars, and especially the Seljuk Turks. Norman mercenaries were first encouraged to come to the south by the Lombards to act against the Byzantines, but they soon fought in Byzantine service in Sicily. They were prominent alongside Varangian and Lombard contingents in the Sicilian campaign of George Maniaces in 1038–40. There is debate whether the Normans in Greek service actually were from Norman Italy, and it now seems likely only a few came from there. It is also unknown how many of the \"Franks\", as the Byzantines called them, were Normans and not other Frenchmen. \nQuestion: Who was the Normans' main enemy in Italy, the Byzantine Empire and Armenia? \nActual Answer: the Seljuk Turks \nPredicted Answer:  \n\n\n\nContext :  One of the first Norman mercenaries to serve as a Byzantine general was Hervé in the 1050s. By then however, there were already Norman mercenaries serving as far away as Trebizond and Georgia. They were based at Malatya and Edessa, under the Byzantine duke of Antioch, Isaac Komnenos. In the 1060s, Robert Crispin led the Normans of Edessa against the Turks. Roussel de Bailleul even tried to carve out an independent state in Asia Minor with support from the local population, but he was stopped by the Byzantine general Alexius Komnenos. \nQuestion: When did Herve serve as a Byzantine general? \nActual Answer: 1050s \nPredicted Answer: 1050s by then however there were already norman mercenaries serving as far away as trebizond and georgia they were based at malatya and edessa under the byzantine duke of antioch isaac komnenos in the 1060s \n\n\n\n",
          "name": "stdout"
        }
      ]
    },
    {
      "cell_type": "markdown",
      "source": "<a style='text-decoration:none;line-height:16px;display:flex;color:#5B5B62;padding:10px;justify-content:end;' href='https://deepnote.com?utm_source=created-in-deepnote-cell&projectId=892561f3-bdc6-402b-bdd8-1c4a8ec9a749' target=\"_blank\">\n<img style='display:inline;max-height:16px;margin:0px;margin-right:7.5px;' src='data:image/svg+xml;base64,PD94bWwgdmVyc2lvbj0iMS4wIiBlbmNvZGluZz0iVVRGLTgiPz4KPHN2ZyB3aWR0aD0iODBweCIgaGVpZ2h0PSI4MHB4IiB2aWV3Qm94PSIwIDAgODAgODAiIHZlcnNpb249IjEuMSIgeG1sbnM9Imh0dHA6Ly93d3cudzMub3JnLzIwMDAvc3ZnIiB4bWxuczp4bGluaz0iaHR0cDovL3d3dy53My5vcmcvMTk5OS94bGluayI+CiAgICA8IS0tIEdlbmVyYXRvcjogU2tldGNoIDU0LjEgKDc2NDkwKSAtIGh0dHBzOi8vc2tldGNoYXBwLmNvbSAtLT4KICAgIDx0aXRsZT5Hcm91cCAzPC90aXRsZT4KICAgIDxkZXNjPkNyZWF0ZWQgd2l0aCBTa2V0Y2guPC9kZXNjPgogICAgPGcgaWQ9IkxhbmRpbmciIHN0cm9rZT0ibm9uZSIgc3Ryb2tlLXdpZHRoPSIxIiBmaWxsPSJub25lIiBmaWxsLXJ1bGU9ImV2ZW5vZGQiPgogICAgICAgIDxnIGlkPSJBcnRib2FyZCIgdHJhbnNmb3JtPSJ0cmFuc2xhdGUoLTEyMzUuMDAwMDAwLCAtNzkuMDAwMDAwKSI+CiAgICAgICAgICAgIDxnIGlkPSJHcm91cC0zIiB0cmFuc2Zvcm09InRyYW5zbGF0ZSgxMjM1LjAwMDAwMCwgNzkuMDAwMDAwKSI+CiAgICAgICAgICAgICAgICA8cG9seWdvbiBpZD0iUGF0aC0yMCIgZmlsbD0iIzAyNjVCNCIgcG9pbnRzPSIyLjM3NjIzNzYyIDgwIDM4LjA0NzY2NjcgODAgNTcuODIxNzgyMiA3My44MDU3NTkyIDU3LjgyMTc4MjIgMzIuNzU5MjczOSAzOS4xNDAyMjc4IDMxLjY4MzE2ODMiPjwvcG9seWdvbj4KICAgICAgICAgICAgICAgIDxwYXRoIGQ9Ik0zNS4wMDc3MTgsODAgQzQyLjkwNjIwMDcsNzYuNDU0OTM1OCA0Ny41NjQ5MTY3LDcxLjU0MjI2NzEgNDguOTgzODY2LDY1LjI2MTk5MzkgQzUxLjExMjI4OTksNTUuODQxNTg0MiA0MS42NzcxNzk1LDQ5LjIxMjIyODQgMjUuNjIzOTg0Niw0OS4yMTIyMjg0IEMyNS40ODQ5Mjg5LDQ5LjEyNjg0NDggMjkuODI2MTI5Niw0My4yODM4MjQ4IDM4LjY0NzU4NjksMzEuNjgzMTY4MyBMNzIuODcxMjg3MSwzMi41NTQ0MjUgTDY1LjI4MDk3Myw2Ny42NzYzNDIxIEw1MS4xMTIyODk5LDc3LjM3NjE0NCBMMzUuMDA3NzE4LDgwIFoiIGlkPSJQYXRoLTIyIiBmaWxsPSIjMDAyODY4Ij48L3BhdGg+CiAgICAgICAgICAgICAgICA8cGF0aCBkPSJNMCwzNy43MzA0NDA1IEwyNy4xMTQ1MzcsMC4yNTcxMTE0MzYgQzYyLjM3MTUxMjMsLTEuOTkwNzE3MDEgODAsMTAuNTAwMzkyNyA4MCwzNy43MzA0NDA1IEM4MCw2NC45NjA0ODgyIDY0Ljc3NjUwMzgsNzkuMDUwMzQxNCAzNC4zMjk1MTEzLDgwIEM0Ny4wNTUzNDg5LDc3LjU2NzA4MDggNTMuNDE4MjY3Nyw3MC4zMTM2MTAzIDUzLjQxODI2NzcsNTguMjM5NTg4NSBDNTMuNDE4MjY3Nyw0MC4xMjg1NTU3IDM2LjMwMzk1NDQsMzcuNzMwNDQwNSAyNS4yMjc0MTcsMzcuNzMwNDQwNSBDMTcuODQzMDU4NiwzNy43MzA0NDA1IDkuNDMzOTE5NjYsMzcuNzMwNDQwNSAwLDM3LjczMDQ0MDUgWiIgaWQ9IlBhdGgtMTkiIGZpbGw9IiMzNzkzRUYiPjwvcGF0aD4KICAgICAgICAgICAgPC9nPgogICAgICAgIDwvZz4KICAgIDwvZz4KPC9zdmc+' > </img>\nCreated in <span style='font-weight:600;margin-left:4px;'>Deepnote</span></a>",
      "metadata": {
        "tags": [],
        "created_in_deepnote_cell": true,
        "deepnote_cell_type": "markdown"
      }
    }
  ],
  "nbformat": 4,
  "nbformat_minor": 0,
  "metadata": {
    "accelerator": "GPU",
    "colab": {
      "name": "NLP-project-2(2).ipynb",
      "provenance": [],
      "collapsed_sections": [],
      "toc_visible": true
    },
    "deepnote": {},
    "deepnote_execution_queue": [],
    "deepnote_notebook_id": "81178979-93a3-4d94-ac12-7d3f1673d175",
    "kernelspec": {
      "display_name": "Python 3",
      "language": "python",
      "name": "python3"
    },
    "language_info": {
      "codemirror_mode": {
        "name": "ipython",
        "version": 3
      },
      "file_extension": ".py",
      "mimetype": "text/x-python",
      "name": "python",
      "nbconvert_exporter": "python",
      "pygments_lexer": "ipython3",
      "version": "3.9.1"
    }
  }
}